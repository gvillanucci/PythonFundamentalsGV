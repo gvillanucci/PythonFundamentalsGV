{
  "nbformat": 4,
  "nbformat_minor": 0,
  "metadata": {
    "colab": {
      "name": "Operators1.ipynb",
      "provenance": [],
      "collapsed_sections": [],
      "include_colab_link": true
    },
    "kernelspec": {
      "name": "python3",
      "display_name": "Python 3"
    }
  },
  "cells": [
    {
      "cell_type": "markdown",
      "metadata": {
        "id": "view-in-github",
        "colab_type": "text"
      },
      "source": [
        "<a href=\"https://colab.research.google.com/github/gvillanucci/PythonFundamentalsGV/blob/main/Operators1.ipynb\" target=\"_parent\"><img src=\"https://colab.research.google.com/assets/colab-badge.svg\" alt=\"Open In Colab\"/></a>"
      ]
    },
    {
      "cell_type": "markdown",
      "metadata": {
        "id": "3O7iro_BV0mL"
      },
      "source": [
        "# Operators - arithmetic\n",
        "\n",
        "---"
      ]
    },
    {
      "cell_type": "markdown",
      "metadata": {
        "id": "Nk7bg_hfLzu7"
      },
      "source": [
        "In Python, we can use the following arithmetic operators:  \n",
        "\n",
        "![Python operators](https://drive.google.com/uc?id=1EARs0OefvMwAULyNGGs01xYLW3lIAO9B)\n",
        "\n",
        "\n",
        "\n",
        "\n",
        "\n",
        "\n",
        "\n",
        "\n",
        "\n"
      ]
    },
    {
      "cell_type": "markdown",
      "metadata": {
        "id": "ohKiZuy-OnDN"
      },
      "source": [
        "---\n",
        "### Exercise 1 - multiplication of integers\n",
        "Write a function called **print_dog_human_age()** which will:  \n",
        "\n",
        "*  ask the user to input their dog's age and assign this to an integer variable called **dog_age**  \n",
        "*  calculate the dog’s age in human years by multiplying it by 7, assigning it to a new variable called **dog_human_age**  \n",
        "*  print the age in human years (`dog_human_age`)    \n",
        "\n",
        "Test Input:  \n",
        "4  \n",
        "\n",
        "Expected output:  \n",
        "28\n"
      ]
    },
    {
      "cell_type": "code",
      "metadata": {
        "id": "kWpM2m4nO7Ir",
        "outputId": "42646079-bdd2-409e-e681-68e3cdeb7737",
        "colab": {
          "base_uri": "https://localhost:8080/"
        }
      },
      "source": [
        "def print_dog_human_age():\n",
        "  dog_age=int(input(\"How old is your dog? \"))\n",
        "  dog_human_age=(dog_age)*7\n",
        "  print(dog_human_age)\n",
        "print_dog_human_age()\n"
      ],
      "execution_count": 4,
      "outputs": [
        {
          "output_type": "stream",
          "name": "stdout",
          "text": [
            "How old is your dog? 4\n",
            "28\n"
          ]
        }
      ]
    },
    {
      "cell_type": "markdown",
      "metadata": {
        "id": "fvxtRRcfOnGr"
      },
      "source": [
        "---\n",
        "### Exercise 2 - BIDMAS\n",
        "Write a function called **calculate_average()** which will:  \n",
        "\n",
        "*  ask the user for 3 seperate numbers, **num1**, **num2**, **num3**  \n",
        "*  calculate the **average** of the three numbers\n",
        "*  print the `average`, rounded to 2 decimal places  \n",
        "\n",
        "*Hint 1:  to round a number, use round(), e.g. round(`average`)  *\n",
        "*Hint 2: remember the BIDMAS order of operators and use brackets to change the order if necessary.*  \n",
        "\n",
        "Test Input:  \n",
        "3  \n",
        "5  \n",
        "9  \n",
        "\n",
        "Expected output:  \n",
        "5.67"
      ]
    },
    {
      "cell_type": "code",
      "metadata": {
        "id": "jYtLq8olPRZM",
        "outputId": "10717848-ceec-4cbe-e6b3-f05a1b2dab6d",
        "colab": {
          "base_uri": "https://localhost:8080/"
        }
      },
      "source": [
        "def calculate_average():\n",
        "  num1=float(input(\"Type a number:\"))\n",
        "  num2=float(input(\"Type another number:\"))\n",
        "  num3=float(input(\"Type one more number:\"))\n",
        "  average=(num1+num2+num3)/3\n",
        "  print(round(average, 2))\n",
        "calculate_average()\n"
      ],
      "execution_count": 9,
      "outputs": [
        {
          "output_type": "stream",
          "name": "stdout",
          "text": [
            "Type a number:3\n",
            "Type another number:5\n",
            "Type one more number:9\n",
            "5.67\n"
          ]
        }
      ]
    },
    {
      "cell_type": "markdown",
      "metadata": {
        "id": "r9w0fiW-PR2D"
      },
      "source": [
        "---\n",
        "### Exercise 3 - BIDMAS\n",
        "\n",
        "Write a function called **calculate_avg_height()** which will:  \n",
        "\n",
        "*  ask the user to input their **height**  \n",
        "*  convert `height` to **height_centimeters** (multiply by 100)  \n",
        "*  print `height_centimeters`  \n",
        "\n",
        "*Remember, height in metres is usually a decimal, so data type matters*  \n",
        "\n",
        "Test Input:  \n",
        "1.67  \n",
        "\n",
        "Expected output:  \n",
        "167\n"
      ]
    },
    {
      "cell_type": "code",
      "metadata": {
        "id": "2dMgvQlUPirV",
        "outputId": "a1fa3f7b-ec32-4f68-80ee-513abe6798e9",
        "colab": {
          "base_uri": "https://localhost:8080/"
        }
      },
      "source": [
        "def calculate_avg_height():\n",
        "  height=float(input(\"How tall are you, in metres? \"))\n",
        "  height_centimetres= int((height)*100)\n",
        "  print(height_centimetres)\n",
        "calculate_avg_height()\n"
      ],
      "execution_count": 12,
      "outputs": [
        {
          "output_type": "stream",
          "name": "stdout",
          "text": [
            "How tall are you, in metres? 1.67\n",
            "167\n"
          ]
        }
      ]
    },
    {
      "cell_type": "markdown",
      "metadata": {
        "id": "QTprQ2zhPi9L"
      },
      "source": [
        "---\n",
        "### Exercise 4 - float and formatting printing\n",
        "\n",
        "At the time of writing, the exchange rate from Pounds (£) to Euros (€) is 1.16 (£1 = €1.16).\n",
        "\n",
        "Write a function called **convert_currency(**) which will:\n",
        "\n",
        "*  ask a user to input an amount in **pounds**  \n",
        "*  calculate the equivalent number of **euros**  \n",
        "*  print `euros`, rounded to 2 decimal places  \n",
        "\n",
        "Test Input:  \n",
        "£60\n",
        "\n",
        "Expected output:  \n",
        "€69.6  \n",
        "\n",
        "*Remember, pounds is likely to be a decimal number and that the user should not enter the £ sign.*"
      ]
    },
    {
      "cell_type": "code",
      "metadata": {
        "id": "DXqxS75kQWOm",
        "outputId": "99c9bd6e-9306-4e1a-b2a6-5d61b46a259f",
        "colab": {
          "base_uri": "https://localhost:8080/"
        }
      },
      "source": [
        "def convert_currency():\n",
        "  pounds=float(input(\"Type an amount in pound sterling: £\"))\n",
        "  euros=float(pounds*1.16)\n",
        "  print(\"€\", round(euros, 2))\n",
        "convert_currency()\n"
      ],
      "execution_count": 16,
      "outputs": [
        {
          "output_type": "stream",
          "name": "stdout",
          "text": [
            "Type an amount in pound sterling: £60\n",
            "€ 69.6\n"
          ]
        }
      ]
    },
    {
      "cell_type": "markdown",
      "metadata": {
        "id": "Eur4tRWUQWYL"
      },
      "source": [
        "---\n",
        "### Exercise 5 - rounding\n",
        "\n",
        "Write a function called **calculate_stats()** which will:  \n",
        "\n",
        "*  assign the numbers 3.145, 5.6723 and 9.34 to the variables **num1**, **num2** and **num3** respectively  \n",
        "*  calculate the **total** of the three numbers, rounded to 2 decimal places  \n",
        "*  calculate the **average** of the numbers, rounded to 3 decimal places  \n",
        "*  print `total` and `average` in a message that labels them.\n",
        "\n",
        "Expected output:\n",
        "\n",
        "The total of the three numbers is 18.16  \n",
        "The average of the three numbers is 6.052\n",
        "\n",
        "*Remember to calculate the average you divide the total by the quantity of numbers, e.g. total/3*\n"
      ]
    },
    {
      "cell_type": "code",
      "metadata": {
        "id": "pD1lMOhuRZvd",
        "outputId": "39f26308-e2b3-4536-983e-a50a32b035f6",
        "colab": {
          "base_uri": "https://localhost:8080/"
        }
      },
      "source": [
        "def calculate_stats():\n",
        "  num1=3.145\n",
        "  num2=5.6723\n",
        "  num3=9.34\n",
        "  total=round(num1+num2+num3, 2)\n",
        "  average=round(((num1+num2+num3)/3), 3)\n",
        "  print(\"The total of the three numbers is\", total, \"\\n\" + \"The average of the three numbers is\", average)\n",
        "calculate_stats()\n"
      ],
      "execution_count": 18,
      "outputs": [
        {
          "output_type": "stream",
          "name": "stdout",
          "text": [
            "The total of the three numbers is 18.16 \n",
            "The average of the three numbers is 6.052\n"
          ]
        }
      ]
    },
    {
      "cell_type": "markdown",
      "metadata": {
        "id": "jsV3uF5aRZ56"
      },
      "source": [
        "---\n",
        "### Exercise 6 - calculating volume\n",
        "\n",
        "Bill is moving house. He needs to know how much space his cardboard packing boxes have.   \n",
        "\n",
        "Write a function called **calculate_volume()** which will:   \n",
        "\n",
        "*  assign the value 3.2, 5.6 and 7.8 to the variables **base**, **width** and **height** respectively  \n",
        "*  calculate the **box_volume** rounded to 1 decimal place  \n",
        "*  print the `box_volume`\n",
        "\n",
        "*Hint: volume = base x width x height*\n",
        "\n",
        "Expected output:  \n",
        "139.8\n"
      ]
    },
    {
      "cell_type": "code",
      "metadata": {
        "id": "WVLFFYayRwcN",
        "outputId": "01f161ec-ed44-4b97-c13b-49036310e107",
        "colab": {
          "base_uri": "https://localhost:8080/"
        }
      },
      "source": [
        "def calculate_volume():\n",
        "  base=3.2\n",
        "  width=5.6\n",
        "  height=7.8\n",
        "  box_volume=round(base*width*height, 1)\n",
        "  print(box_volume)\n",
        "calculate_volume()"
      ],
      "execution_count": 19,
      "outputs": [
        {
          "output_type": "stream",
          "name": "stdout",
          "text": [
            "139.8\n"
          ]
        }
      ]
    },
    {
      "cell_type": "markdown",
      "metadata": {
        "id": "Apy8QqKIB3_c"
      },
      "source": [
        "---\n",
        "***Floor Division***  \n",
        "*So far, we have been using standard arithmetic operators. If we would like to divide without remainders (eg. no decimals) we can use floor division using the // operator.  This will always round down*.  \n",
        "\n",
        "*For example*:  \n",
        "*42/8 = 5.75*  \n",
        "*BUT*  \n",
        "4*2//8 = 5*"
      ]
    },
    {
      "cell_type": "markdown",
      "metadata": {
        "id": "eGo_VENXRwo0"
      },
      "source": [
        "---\n",
        "### Exercise 7 - calculating with volumes\n",
        "\n",
        "Bill needs to work out how many boxes he will need.  \n",
        "\n",
        "Building on what you did in the last exercise, write a function called **calculate_boxes(base, width, height)** which will:  \n",
        "\n",
        "*  calculate the volume of a box, using the **base**, **width** and **height** supplied in the brackets  \n",
        "*  ask Bill for the **total_volume** of his stuff  \n",
        "*  calculate the total **number_of_boxes** he will need, and print the `number_of_boxes`  \n",
        "\n",
        "*Hint: the `total` will not be a decimal number - you should use floor division and add one to the answer (for the box that will have the leftovers).*\n",
        "\n",
        "Test Input:  \n",
        "1500  \n",
        "\n",
        "Expected output:  \n",
        "11  \n"
      ]
    },
    {
      "cell_type": "code",
      "metadata": {
        "id": "0X6TKFubSIpT",
        "outputId": "bbc1b5fd-536a-4d09-f854-5f273033210c",
        "colab": {
          "base_uri": "https://localhost:8080/"
        }
      },
      "source": [
        "def calculate_boxes(base, width, height):\n",
        "  # add your code below here to calculate the boxVolume, ask for totalVolume and calculate number of boxes\n",
        "  boxVolume=int(base*width*height)//1\n",
        "  totalVolume=int(input(\"Bill, what's the total volume of your stuff? \"))\n",
        "  number_of_boxes=round(totalVolume/boxVolume)//1\n",
        "  print(number_of_boxes)\n",
        "\n",
        "\n",
        "calculate_boxes(3.2, 5.6, 7.8)\n"
      ],
      "execution_count": 30,
      "outputs": [
        {
          "output_type": "stream",
          "name": "stdout",
          "text": [
            "Bill, what's the total volume of your stuff? 1500\n",
            "11\n"
          ]
        }
      ]
    },
    {
      "cell_type": "markdown",
      "metadata": {
        "id": "paxj6AccSIwy"
      },
      "source": [
        "---\n",
        "### Exercise 8 - floor division\n",
        "\n",
        "Write a function called **calculate_parcel_weight()** which will:  \n",
        "\n",
        "*  ask the user to enter the weights, in kg, of four parcels (**weight1, weight2, weight3, weight4**)\n",
        "*  calculate the total **parcel_weight** and display this in a whole number of kg, rounded up  \n",
        "*  print the `parcel_weight`\n",
        "\n",
        "*Hint: round() could either round up or down.  Floor division could be a better option* \n",
        "\n",
        "Test Inputs:  \n",
        "1.23  \n",
        "2.84  \n",
        "1.675  \n",
        "3.03  \n",
        "\n",
        "Expected output:  \n",
        "9kg\n"
      ]
    },
    {
      "cell_type": "code",
      "metadata": {
        "id": "Lulkpg6rStwT",
        "outputId": "34313d5e-4cd4-4785-ed98-1619515d9bfe",
        "colab": {
          "base_uri": "https://localhost:8080/"
        }
      },
      "source": [
        "def calculate_parcel_weight():\n",
        "  weight1=float(input(\"What's the weight of your first parcel? Kg \"))\n",
        "  weight2=float(input(\"What's the weight of your second parcel? Kg \"))\n",
        "  weight3=float(input(\"What's the weight of your third parcel? Kg \"))\n",
        "  weight4=float(input(\"What's the weight of your fourth parcel? Kg \"))\n",
        "  parcel_weight= round(weight1+weight2+weight3+weight4)\n",
        "  print(parcel_weight, \"kg\")\n",
        "calculate_parcel_weight()  \n"
      ],
      "execution_count": 33,
      "outputs": [
        {
          "output_type": "stream",
          "name": "stdout",
          "text": [
            "What's the weight of your first parcel? Kg 1.23\n",
            "What's the weight of your second parcel? Kg 2.84\n",
            "What's the weight of your third parcel? Kg 1.675\n",
            "What's the weight of your fourth parcel? Kg 3.03\n",
            "9 kg\n"
          ]
        }
      ]
    },
    {
      "cell_type": "markdown",
      "metadata": {
        "id": "SduMAQwsXKiA"
      },
      "source": [
        "---\n",
        "### Exercise 9 - modulus\n",
        "\n",
        "Write a function called **get_pm_minutes()** which will:  \n",
        "\n",
        "*  ask the user to enter an afternoon **time** in 24 hour clock (e.g. 1350) \n",
        "*  use floor division to get the **hour** (ie divide by 100)  \n",
        "*  use modulus to get the **minutes**  \n",
        "*  subtract 12 to get the 12 hour clock storing the result back in `hour`      \n",
        "*  print a message to say that It is `minutes` minutes past `hour` PM\n",
        "\n",
        "Test Input:  \n",
        "1350  \n",
        "\n",
        "Expected output:  \n",
        "It is 50 minutes past 1 PM\n",
        "\n",
        "*(Is it possible to use this code to get the right hour for a morning time?  You will do this in the section that allows selection depending on value)*\n",
        "\n"
      ]
    },
    {
      "cell_type": "code",
      "metadata": {
        "id": "dSxM7C1dXK9g",
        "outputId": "4449a1ad-e93d-4f9f-df11-1c7379ad4fcd",
        "colab": {
          "base_uri": "https://localhost:8080/"
        }
      },
      "source": [
        "def get_pm_minutes():\n",
        "  time=int(input(\"Please enter an afternoon time in 24hr format: \"))\n",
        "  hour=(time//100)\n",
        "  minutes=(time%100)\n",
        "  hour=hour-12\n",
        "  print(\"It is\", minutes, \"minutes past\", hour, \"PM\")\n",
        "get_pm_minutes()\n"
      ],
      "execution_count": 35,
      "outputs": [
        {
          "output_type": "stream",
          "name": "stdout",
          "text": [
            "Please enter an afternoon time in 24hr format: 1350\n",
            "It is 50 minutes past 1 PM\n"
          ]
        }
      ]
    },
    {
      "cell_type": "markdown",
      "metadata": {
        "id": "HUwYL72HSt5b"
      },
      "source": [
        "---\n",
        "### Exercise 10 - How many tins of beans?  \n",
        "\n",
        "Write a function called **calculate_tins()** that will calculate how many tins of beans will fit in a cardboard box. Bean tins are *11cm tall* and *8cm* diameter.  All tins will be standing up and can be stacked in layers.  \n",
        "\n",
        "*  use the **height**, **width** and **depth** of the box supplied in the function’s brackets.   \n",
        "*  calculate the **number_of_tins** that can fit in the box   \n",
        "*  print the `number_of_tins` that can fit  \n",
        "\n",
        "*Hint: you will need to calculate the number of layers, and the number that will fit in each direction, the product (all of the numbers multiplied together) will tell you how many tins. All answers must be whole numbers*  \n",
        "\n",
        "\n",
        "Expected output:  \n",
        "24 tins will fit in this box  \n"
      ]
    },
    {
      "cell_type": "code",
      "metadata": {
        "id": "HNTLnqrDVdAW",
        "outputId": "8c9d63b0-ef80-4403-db1d-ac8e1d5c3804",
        "colab": {
          "base_uri": "https://localhost:8080/"
        }
      },
      "source": [
        "def calculate_tins(height, width, depth):\n",
        "   # add your code below here\n",
        "   # volume&capacity: volume of a cylinder V=πr2h\n",
        "   # v_tin=(3.14)*((d_tin/2)**2)*(h_tin)\n",
        "   # box_volume=(height*width*depth)\n",
        "   h_tin=11\n",
        "   d_tin=8\n",
        "   side_box_one=int(width/d_tin)\n",
        "   side_box_two=int(depth/d_tin)\n",
        "   stack_box=int(height/h_tin)\n",
        "   number_of_tins=int(side_box_one*side_box_two*stack_box)\n",
        "   print(number_of_tins, \"tins will fit in this box\")\n",
        "  \n",
        "\n",
        "\n",
        "calculate_tins(24, 50, 18)"
      ],
      "execution_count": 47,
      "outputs": [
        {
          "output_type": "stream",
          "name": "stdout",
          "text": [
            "24 tins will fit in this box\n"
          ]
        }
      ]
    }
  ]
}