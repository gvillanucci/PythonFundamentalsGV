{
  "nbformat": 4,
  "nbformat_minor": 0,
  "metadata": {
    "colab": {
      "name": "Selection1.ipynb",
      "provenance": [],
      "collapsed_sections": [],
      "include_colab_link": true
    },
    "kernelspec": {
      "name": "python3",
      "display_name": "Python 3"
    }
  },
  "cells": [
    {
      "cell_type": "markdown",
      "metadata": {
        "id": "view-in-github",
        "colab_type": "text"
      },
      "source": [
        "<a href=\"https://colab.research.google.com/github/gvillanucci/PythonFundamentalsGV/blob/main/Selection1.ipynb\" target=\"_parent\"><img src=\"https://colab.research.google.com/assets/colab-badge.svg\" alt=\"Open In Colab\"/></a>"
      ]
    },
    {
      "cell_type": "markdown",
      "metadata": {
        "id": "GhX3Slbcp0ZV"
      },
      "source": [
        "## Selection (if...elif...else)\n",
        "\n",
        "---\n"
      ]
    },
    {
      "cell_type": "markdown",
      "metadata": {
        "id": "8hOKtaP7p8Nj"
      },
      "source": [
        "A key part of problem solving is decision making.  Decisions are based on data and have a set of outcomes depending on that data.\n",
        "\n",
        "A program is a sequence of instructions to be followed by the computer, to solve a particular problem.    \n",
        "\n",
        "It is not always useful for programs to do the exact same thing every time, in exactly the same way.  \n",
        "\n",
        "Say we have a program that will tell someone if they are too young to drive a car. We don't want it to tell them this if they are over 17. So we use an if statement to say: if the user's age is less than 17, tell them they are too young to drive a car.\n",
        "\n",
        "Run the code in the cell below to see if it works for the years 2006 and 2000"
      ]
    },
    {
      "cell_type": "code",
      "metadata": {
        "id": "kVSTvk8ZtJkG",
        "outputId": "c45ceb7d-6346-4adf-b1f1-421e12c913d6",
        "colab": {
          "base_uri": "https://localhost:8080/"
        }
      },
      "source": [
        "from datetime import datetime\n",
        "\n",
        "# determine if user is old enough to drive\n",
        "def drive_age():\n",
        "    birth_year = int(input(\"What year were you born?\"))  \n",
        "    current_year = datetime.now().year  \n",
        "    age = current_year - birth_year  \n",
        "    if age < 17:\n",
        "        print(\"You are too young to drive a car\") #else not present, so is user inputs 2000, nothing happens.\n",
        "    \n",
        "drive_age()"
      ],
      "execution_count": null,
      "outputs": [
        {
          "output_type": "stream",
          "name": "stdout",
          "text": [
            "What year were you born?2006\n",
            "You are too young to drive a car\n"
          ]
        }
      ]
    },
    {
      "cell_type": "code",
      "source": [
        "from datetime import datetime\n",
        "\n",
        "# determine if user is old enough to drive\n",
        "def drive_age():\n",
        "    birth_year = int(input(\"What year were you born?\"))  \n",
        "    current_year = datetime.now().year  \n",
        "    age = current_year - birth_year  \n",
        "    if age < 17:\n",
        "        print(\"You are too young to drive a car\")\n",
        "    else:\n",
        "        print(\"Yay, you can drive a car! Be safe.\")\n",
        "drive_age()"
      ],
      "metadata": {
        "id": "lr0IztO-Yo_C",
        "outputId": "14b550fb-2bef-4ffa-83b3-5b8802eb7db9",
        "colab": {
          "base_uri": "https://localhost:8080/"
        }
      },
      "execution_count": null,
      "outputs": [
        {
          "output_type": "stream",
          "name": "stdout",
          "text": [
            "What year were you born?2000\n",
            "Yay, you can drive a car! Be safe.\n"
          ]
        }
      ]
    },
    {
      "cell_type": "markdown",
      "metadata": {
        "id": "ZRdkf0RTtjCE"
      },
      "source": [
        "---\n",
        "## Using else    \n",
        "\n",
        "So the program tells someone if they are too young to drive but if they are old enough it doesn't do anything. We need to give it an alternative action.  \n",
        "\n",
        "Run the code in the cell below to see if it works for the years 2006 and 2000  "
      ]
    },
    {
      "cell_type": "code",
      "metadata": {
        "id": "2kWB9YtbuB5G",
        "outputId": "3857fbff-c677-43dd-ec31-b06d89b7deab",
        "colab": {
          "base_uri": "https://localhost:8080/"
        }
      },
      "source": [
        "from datetime import datetime   \n",
        "\n",
        "# determine if user is old enough to drive or not\n",
        "def drive_age():\n",
        "    birth_year = int(input(\"What year were you born?\"))  \n",
        "    current_year = datetime.now().year  \n",
        "    age = current_year - birth_year  \n",
        "    if age < 17:\n",
        "        print(\"You are too young to drive a car\")\n",
        "    else:\n",
        "        print(\"You are old enough to drive a car\")\n",
        "\n",
        "drive_age()"
      ],
      "execution_count": null,
      "outputs": [
        {
          "output_type": "stream",
          "name": "stdout",
          "text": [
            "What year were you born?2000\n",
            "You are old enough to drive a car\n"
          ]
        }
      ]
    },
    {
      "cell_type": "markdown",
      "metadata": {
        "id": "5_czxkMEuIBk"
      },
      "source": [
        "So an if statement is written like this:  \n",
        "\n",
        "```\n",
        "if A CONDITION IS TRUE :  \n",
        "  DO SOMETHING  \n",
        "else:  \n",
        "  DO SOMETHING ELSE\n",
        "```\n",
        "\n",
        "\n",
        "Important things to know:  \n",
        "\n",
        "A CONDITION can be *True* or *False* either because it is a boolean variable (storing the value True or False) or because it is using some form of comparison or logical operator:\n",
        "\n",
        "age < 17\n",
        "This is *True* if the value of **age** is less than 17 and *False* if the value of age is 17 or above\n",
        "\n",
        "name == \"Bill\"\n",
        "This is *True* if the value of the variable **name** is \"Bill\" and *False* if the value is any other name\n",
        "\n",
        "height >= 150\n",
        "This is *True* if the value of **height** is greater than, or equal to, 150 and *False* if the value is less than 150\n",
        "\n",
        "### What if there is more than one option?\n",
        "If you ask someone their age, then there may be a number of different things you can print depending on what it is:  \n",
        "\n",
        "Run the code in the cell below, try some different ages to get different results.    "
      ]
    },
    {
      "cell_type": "code",
      "metadata": {
        "id": "cKKbVayNvKU_",
        "outputId": "03df93cd-c84d-4453-9a97-069635ceb487",
        "colab": {
          "base_uri": "https://localhost:8080/"
        }
      },
      "source": [
        "def age_to_drive():\n",
        "    age = int(input(\"Please enter your age\"))\n",
        "    if age >= 17:\n",
        "        print(\"You are old enough to drive\")\n",
        "    elif age >= 13:\n",
        "        print(\"You are too young to drive but you are old enough to have a social media account\")\n",
        "    else:\n",
        "        print(\"You are too young to drive and to have a social media account\")\n",
        "\n",
        "age_to_drive()"
      ],
      "execution_count": null,
      "outputs": [
        {
          "output_type": "stream",
          "name": "stdout",
          "text": [
            "Please enter your age1\n",
            "You are too young to drive and to have a social media account\n"
          ]
        }
      ]
    },
    {
      "cell_type": "code",
      "source": [
        "def age_to_drive():\n",
        "    age = int(input(\"Please enter your age\"))\n",
        "    if age >= 17:\n",
        "        print(\"You are old enough to drive\")\n",
        "    elif age >= 13:\n",
        "        print(\"You are too young to drive but you are old enough to have a social media account\")\n",
        "    else:\n",
        "        print(\"You are too young to drive and to have a social media account\")\n",
        "\n",
        "age_to_drive()"
      ],
      "metadata": {
        "id": "rNSMvwbOZZEw",
        "outputId": "3185245f-fe86-48b3-e834-cb0eae842295",
        "colab": {
          "base_uri": "https://localhost:8080/"
        }
      },
      "execution_count": null,
      "outputs": [
        {
          "output_type": "stream",
          "name": "stdout",
          "text": [
            "Please enter your age16\n",
            "You are too young to drive but you are old enough to have a social media account\n"
          ]
        }
      ]
    },
    {
      "cell_type": "code",
      "source": [
        "def age_to_drive():\n",
        "    age = int(input(\"Please enter your age\"))\n",
        "    if age >= 17:\n",
        "        print(\"You are old enough to drive\")\n",
        "    elif age >= 13:\n",
        "        print(\"You are too young to drive but you are old enough to have a social media account\")\n",
        "    else:\n",
        "        print(\"You are too young to drive and to have a social media account\")\n",
        "\n",
        "age_to_drive()"
      ],
      "metadata": {
        "id": "zUVTTak0Zeyh",
        "outputId": "16093345-f16f-43a5-d6b9-ab9d25a6d1a4",
        "colab": {
          "base_uri": "https://localhost:8080/"
        }
      },
      "execution_count": null,
      "outputs": [
        {
          "output_type": "stream",
          "name": "stdout",
          "text": [
            "Please enter your age45\n",
            "You are old enough to drive\n"
          ]
        }
      ]
    },
    {
      "cell_type": "markdown",
      "metadata": {
        "id": "t8-NQ7QevL3z"
      },
      "source": [
        "Here's another example, try this one out:    \n",
        "*  ask the user to enter their **name**.    \n",
        "*  if their `name` is Bill then print \"Where is Ben?\"  \n",
        "*  if their `name` is Ben print \"Where is Bill?\"  \n",
        "*  otherwise print \"Where are Bill and Ben?\"  "
      ]
    },
    {
      "cell_type": "code",
      "metadata": {
        "id": "lY9VVvQQvuM9",
        "outputId": "8800e478-09e3-4896-f99d-6b4ed48598a9",
        "colab": {
          "base_uri": "https://localhost:8080/"
        }
      },
      "source": [
        "def bill_or_ben():\n",
        "    name = input(\"What is your name?\")\n",
        "    if name == \"Bill\":\n",
        "      print(\"Where is Ben?\")\n",
        "    elif name == \"Ben\":\n",
        "      print(\"Where is Bill?\")\n",
        "    else:\n",
        "      print(\"Where are Bill and Ben?\")\n",
        "\n",
        "bill_or_ben()"
      ],
      "execution_count": null,
      "outputs": [
        {
          "output_type": "stream",
          "name": "stdout",
          "text": [
            "What is your name?Giulia\n",
            "Where are Bill and Ben?\n"
          ]
        }
      ]
    },
    {
      "cell_type": "markdown",
      "metadata": {
        "id": "-ouEfBiaqKc7"
      },
      "source": [
        "---\n",
        "### Exercise 1  - if and else\n",
        "\n",
        "Write a function called **find_greater()** which will:\n",
        "\n",
        "*  ask the user for 2 numbers (**num1** and **num2**)  \n",
        "*  use an if statement that compares the two numbers and prints the one that is the greater of the two.  "
      ]
    },
    {
      "cell_type": "code",
      "metadata": {
        "id": "BIhqeCOHpzOS",
        "outputId": "f6f82e4d-0953-4099-9ce5-a4f4d03b5fe2",
        "colab": {
          "base_uri": "https://localhost:8080/"
        }
      },
      "source": [
        "def find_greater():\n",
        "  num1=int(input(\"Dear user, please type a whole number here: \"))\n",
        "  num2=int(input(\"Hi again, please type another whole number right here: \"))\n",
        "  if num1>num2:\n",
        "    print(\"The biggest number is:\", num1)\n",
        "  else:\n",
        "    print(\"The biggest number is:\", num2)\n",
        "\n",
        "find_greater()\n"
      ],
      "execution_count": null,
      "outputs": [
        {
          "output_type": "stream",
          "name": "stdout",
          "text": [
            "Dear user, please type a whole number here: 17\n",
            "Hi again, please type another whole number right here: 7\n",
            "The biggest number is: 17\n"
          ]
        }
      ]
    },
    {
      "cell_type": "markdown",
      "metadata": {
        "id": "vkKL17eFy_R-"
      },
      "source": [
        "---\n",
        "### Exercise 2 - \n",
        "\n",
        "Write a function called **guess_number(random_number)** which will use the generated **random_number**, between 1 and 100, provided in the brackets (called a parameter):  \n",
        "\n",
        "*  ask the user to **guess** the `random_number`  \n",
        "*  if the `guess` is greater than the `random_number` print \"Too high\"  \n",
        "*  else if the `guess` is less than the `random_number` print \"Too low\"  \n"
      ]
    },
    {
      "cell_type": "code",
      "metadata": {
        "id": "hmKpcdRv0UOd",
        "outputId": "41a24294-0bc7-40bd-e84c-7665fb2973ee",
        "colab": {
          "base_uri": "https://localhost:8080/"
        }
      },
      "source": [
        "from random import randint\n",
        "\n",
        "def guess_number(randomNumber):\n",
        "  # add your code below here\n",
        "  guess=int(input(\"Guess the random whole number I am thinking about: \"))\n",
        "  if guess>randomNumber:\n",
        "    print(\"Too high\")\n",
        "  else:\n",
        "    print(\"Too low\")\n",
        "\n",
        "guess_number(randint(1,100)) #the numbers inside these parentheses are called parameter"
      ],
      "execution_count": null,
      "outputs": [
        {
          "output_type": "stream",
          "name": "stdout",
          "text": [
            "Guess the random whole number I am thinking about: 33\n",
            "Too low\n"
          ]
        }
      ]
    },
    {
      "cell_type": "markdown",
      "metadata": {
        "id": "70COtAzd0UcZ"
      },
      "source": [
        "---\n",
        "### Exercise 3 - AM or PM\n",
        "\n",
        "Write a function called **is_afternoon()** which will:\n",
        "\n",
        "*  ask the user to enter the **time** in 24 hour clock format (e.g. 1759)  \n",
        "*  use floor division (by 100) to calculate the **hour**  \n",
        "*  use modulus (100) to calculate the **minutes**  \n",
        "*  if the **hour** is 12 or greater, assign \"PM\" to a variable called **am_pm** AND subtract 12 from `hour` and store the result back in `hour`  \n",
        "*  else assign \"AM\" to the `am_pm` variable   \n",
        "*  assign the value str(`hour`) + \":\" + str(`minutes`) + `am_pm` to a new variable called **text_time**  \n",
        "*  print the message \"The time is\", `text_time`    \n",
        "\n",
        "Test input:  \n",
        "1759  \n",
        "\n",
        "Expected output:  \n",
        "The time is 5:59PM  \n",
        "\n",
        "Test input:  \n",
        "1132  \n",
        "\n",
        "Expected output:  \n",
        "The time is 11:32AM"
      ]
    },
    {
      "cell_type": "code",
      "metadata": {
        "id": "FCVRtwjd2ZnH",
        "outputId": "387f719b-81c5-47ae-8233-301b540f7287",
        "colab": {
          "base_uri": "https://localhost:8080/"
        }
      },
      "source": [
        "def is_afternoon():\n",
        "  time=int(input(\"Please enter the time in a 24 hour format: \"))\n",
        "  hour=time//100\n",
        "  minutes=time%100\n",
        "  if hour>=12:\n",
        "    am_pm=\"PM\"  \n",
        "    hour=hour-12\n",
        "  else:\n",
        "    am_pm=\"AM\"\n",
        "  \n",
        "  text_time=str(hour)+\":\"+str(minutes)+am_pm\n",
        "  print(\"The time is\", text_time)\n",
        "\n",
        "is_afternoon()\n"
      ],
      "execution_count": 18,
      "outputs": [
        {
          "output_type": "stream",
          "name": "stdout",
          "text": [
            "Please enter the time in a 24 hour format: 1759\n",
            "The time is 5:59PM\n"
          ]
        }
      ]
    },
    {
      "cell_type": "code",
      "source": [
        "def is_afternoon():\n",
        "  time=int(input(\"Please enter the time in a 24 hour format: \"))\n",
        "  hour=time//100\n",
        "  minutes=time%100\n",
        "  if hour>=12:\n",
        "    am_pm=\"PM\"\n",
        "  else:\n",
        "    am_pm=\"AM\"\n",
        "  \n",
        "  text_time=str(hour)+\":\"+str(minutes)+am_pm\n",
        "  print(\"The time is\", text_time)\n",
        "\n",
        "is_afternoon()\n"
      ],
      "metadata": {
        "id": "Ezhx77fTdsDj",
        "outputId": "5d12f2d2-dc85-4cbe-e127-3b4eca0255f8",
        "colab": {
          "base_uri": "https://localhost:8080/"
        }
      },
      "execution_count": null,
      "outputs": [
        {
          "output_type": "stream",
          "name": "stdout",
          "text": [
            "Please enter the time in a 24 hour format: 1132\n",
            "The time is 11:32AM\n"
          ]
        }
      ]
    },
    {
      "cell_type": "markdown",
      "metadata": {
        "id": "pMnxknLW3XlM"
      },
      "source": [
        "---\n",
        "### Exercise 4 - Getting a number within limits\n",
        "\n",
        "Write a function called **validate()** which will:\n",
        "\n",
        "*  ask the user to enter a **number** between 1 and 100  \n",
        "*  if the `number` is less than 1 or more than 100, print the error message \"Number out of limits\"  \n",
        "*  else print \"Your number was\" followed by the `number`\n",
        "\n",
        "Test input:  \n",
        "50  \n",
        "\n",
        "Expected output:  \n",
        "Your number was 50  \n",
        "\n",
        "Test input:  \n",
        "150  \n",
        "\n",
        "Expected output:  \n",
        "Number out of limits"
      ]
    },
    {
      "cell_type": "code",
      "metadata": {
        "id": "cO7r4kYY3_aA",
        "outputId": "a7289cb3-7c46-45b2-d811-c4cd13b0686b",
        "colab": {
          "base_uri": "https://localhost:8080/"
        }
      },
      "source": [
        "def validate():\n",
        "  number=int(input(\"Please enter a whole number between 1 and 100: \"))\n",
        "  if number<1 or number>100:\n",
        "    print(\"Number out of limits\")\n",
        "  else:\n",
        "    print(\"Your number was\", number)\n",
        "validate()"
      ],
      "execution_count": null,
      "outputs": [
        {
          "output_type": "stream",
          "name": "stdout",
          "text": [
            "Please enter a whole number between 1 and 100: 50\n",
            "Your number was 50\n"
          ]
        }
      ]
    },
    {
      "cell_type": "code",
      "source": [
        "def validate():\n",
        "  number=int(input(\"Please enter a whole number between 1 and 100: \"))\n",
        "  if number<1 or number>100:\n",
        "    print(\"Number out of limits\")\n",
        "  else:\n",
        "    print(\"Your number was\", number)\n",
        "validate()"
      ],
      "metadata": {
        "id": "GE1LiHXQnZVF",
        "outputId": "936568d5-6397-4cdc-cf6a-119489a16ebf",
        "colab": {
          "base_uri": "https://localhost:8080/"
        }
      },
      "execution_count": null,
      "outputs": [
        {
          "output_type": "stream",
          "name": "stdout",
          "text": [
            "Please enter a whole number between 1 and 100: 150\n",
            "Number out of limits\n"
          ]
        }
      ]
    },
    {
      "cell_type": "markdown",
      "metadata": {
        "id": "NVecdtXu4AsM"
      },
      "source": [
        "---\n",
        "### Exercise 5 - getting a menu choice  \n",
        "\n",
        "Write a function called **process_menu()** which will:\n",
        "\n",
        "*  print the following menu:  \n",
        "\n",
        "What value would you like to see?  \n",
        "\n",
        "1. Pi  \n",
        "2. Plank’s constant  \n",
        "3. E  \n",
        "4. Square root of 2  \n",
        "\n",
        "*  ask the user to choose a **menu_option**  \n",
        "*  if the `menu_option` chosen is not between 1 and 4, print \"Invalid choice\"  \n",
        "*  else print the number of the `menu_option` chosen\n",
        "\n",
        "Test input:  \n",
        "2  \n",
        "\n",
        "Expected output:  \n",
        "2  \n",
        "\n",
        "Test input:  \n",
        "5  \n",
        "\n",
        "Expected output:  \n",
        "Invalid choice"
      ]
    },
    {
      "cell_type": "code",
      "metadata": {
        "id": "OXRoUAE15Oqq",
        "outputId": "8c2a218b-2d0b-4ec4-df62-b34206ec83e1",
        "colab": {
          "base_uri": "https://localhost:8080/"
        }
      },
      "source": [
        "def process_menu():\n",
        "  print(\"What value would you like to see?\" \"\\n\" \"1. Pi\" \"\\n\" \"2. Plank's constant\" \"\\n\" \"3. E\" \"\\n\" \"4. Square root of 2\")\n",
        "  menu_option=int(input(\"Please, choose a menu option: \"))\n",
        "  if menu_option<1 or menu_option>4:\n",
        "    print(\"Invalid choice\")\n",
        "  else:\n",
        "    print(menu_option)\n",
        "\n",
        "process_menu()"
      ],
      "execution_count": null,
      "outputs": [
        {
          "output_type": "stream",
          "name": "stdout",
          "text": [
            "What value would you like to see?\n",
            "1. Pi\n",
            "2. Plank's constant\n",
            "3. E\n",
            "4. Square root of 2\n",
            "Please, choose a menu option: 2\n",
            "2\n"
          ]
        }
      ]
    },
    {
      "cell_type": "code",
      "source": [
        "def process_menu():\n",
        "  print(\"What value would you like to see?\" \"\\n\" \"1. Pi\" \"\\n\" \"2. Plank's constant\" \"\\n\" \"3. E\" \"\\n\" \"4. Square root of 2\")\n",
        "  menu_option=int(input(\"Please, choose a menu option: \"))\n",
        "  if menu_option<1 or menu_option>4:\n",
        "    print(\"Invalid choice\")\n",
        "  else:\n",
        "    print(menu_option)\n",
        "\n",
        "process_menu()"
      ],
      "metadata": {
        "id": "ZR4vVRwypXie",
        "outputId": "d7714453-fc12-4315-d40f-5c9ce125c157",
        "colab": {
          "base_uri": "https://localhost:8080/"
        }
      },
      "execution_count": null,
      "outputs": [
        {
          "output_type": "stream",
          "name": "stdout",
          "text": [
            "What value would you like to see?\n",
            "1. Pi\n",
            "2. Plank's constant\n",
            "3. E\n",
            "4. Square root of 2\n",
            "Please, choose a menu option: 5\n",
            "Invalid choice\n"
          ]
        }
      ]
    },
    {
      "cell_type": "markdown",
      "metadata": {
        "id": "XLDdZqZd5O1s"
      },
      "source": [
        "---\n",
        "### Exercise 6 - acting on menu choice  \n",
        "\n",
        "Write a function called **process_menu_options()** which will:  \n",
        "\n",
        "*  print the following menu:  \n",
        "\n",
        "What value would you like to see?  \n",
        "\n",
        "1. Pi  \n",
        "2. Plank’s constant  \n",
        "3. E  \n",
        "4. Square root of 2  \n",
        "\n",
        "*  ask the user to choose a **menu_option**  \n",
        "*  if the `menu_option` is 1 print 3.14159265359  \n",
        "*  otherwise (*elif*) the `menu_option` is 2 print 6.62607004 × 10-34 (in Python this would be written 6.62607004E-34  \n",
        "*  otherwise if the `menu_option` is 3 - print 2.71828  \n",
        "*  otherwise if the `menu_option` is 4 - print 1.414  \n",
        "*  otherwise if the `menu_option` is anything *else* - print \"Invalid choice\"  \n",
        "\n",
        "Test input:  \n",
        "1  \n",
        "\n",
        "Expected output:  \n",
        "3.14159265359\n",
        "\n",
        "Test input:  \n",
        "4  \n",
        "\n",
        "Expected output:  \n",
        "1.414  \n",
        "\n",
        "Test input:  \n",
        "9  \n",
        "\n",
        "Expected output:  \n",
        "Invalid choice\n"
      ]
    },
    {
      "cell_type": "code",
      "metadata": {
        "id": "dXKzF9NI6mrB",
        "outputId": "e27b217d-1d57-4283-87e3-f103dd719e9e",
        "colab": {
          "base_uri": "https://localhost:8080/"
        }
      },
      "source": [
        "def process_menu_options():\n",
        "  print(\"What value would you like to see?\" \"\\n\" \"1. Pi\" \"\\n\" \"2. Plank's constant\" \"\\n\" \"3. E\" \"\\n\" \"4. Square root of 2\")\n",
        "  menu_option=int(input(\"Please, choose a menu option: \"))\n",
        "  if menu_option==1:\n",
        "    print(3.14159265359)\n",
        "  elif menu_option==2:\n",
        "    print(6.62607004E-34)\n",
        "  elif menu_option==3:\n",
        "    print(2.71828)\n",
        "  elif menu_option==4:\n",
        "    print(1.414)\n",
        "  else:\n",
        "    print(\"Invalid choice\")\n",
        "\n",
        "process_menu_options()"
      ],
      "execution_count": null,
      "outputs": [
        {
          "output_type": "stream",
          "name": "stdout",
          "text": [
            "What value would you like to see?\n",
            "1. Pi\n",
            "2. Plank's constant\n",
            "3. E\n",
            "4. Square root of 2\n",
            "Please, choose a menu option: 1\n",
            "3.14159265359\n"
          ]
        }
      ]
    },
    {
      "cell_type": "code",
      "source": [
        "def process_menu_options():\n",
        "  print(\"What value would you like to see?\" \"\\n\" \"1. Pi\" \"\\n\" \"2. Plank's constant\" \"\\n\" \"3. E\" \"\\n\" \"4. Square root of 2\")\n",
        "  menu_option=int(input(\"Please, choose a menu option: \"))\n",
        "  if menu_option==1:\n",
        "    print(3.14159265359)\n",
        "  elif menu_option==2:\n",
        "    print(6.62607004E-34)\n",
        "  elif menu_option==3:\n",
        "    print(2.71828)\n",
        "  elif menu_option==4:\n",
        "    print(1.414)\n",
        "  else:\n",
        "    print(\"Invalid choice\")\n",
        "\n",
        "process_menu_options()"
      ],
      "metadata": {
        "id": "41QyMDHYrGfO",
        "outputId": "e8a8d08b-7a19-483f-9804-4961f1505174",
        "colab": {
          "base_uri": "https://localhost:8080/"
        }
      },
      "execution_count": null,
      "outputs": [
        {
          "output_type": "stream",
          "name": "stdout",
          "text": [
            "What value would you like to see?\n",
            "1. Pi\n",
            "2. Plank's constant\n",
            "3. E\n",
            "4. Square root of 2\n",
            "Please, choose a menu option: 4\n",
            "1.414\n"
          ]
        }
      ]
    },
    {
      "cell_type": "code",
      "source": [
        "def process_menu_options():\n",
        "  print(\"What value would you like to see?\" \"\\n\" \"1. Pi\" \"\\n\" \"2. Plank's constant\" \"\\n\" \"3. E\" \"\\n\" \"4. Square root of 2\")\n",
        "  menu_option=int(input(\"Please, choose a menu option: \"))\n",
        "  if menu_option==1:\n",
        "    print(3.14159265359)\n",
        "  elif menu_option==2:\n",
        "    print(6.62607004E-34)\n",
        "  elif menu_option==3:\n",
        "    print(2.71828)\n",
        "  elif menu_option==4:\n",
        "    print(1.414)\n",
        "  else:\n",
        "    print(\"Invalid choice\")\n",
        "\n",
        "process_menu_options()"
      ],
      "metadata": {
        "id": "Y98S5tmYrJnt",
        "outputId": "f17ed104-28f2-459e-c024-2589098ecb07",
        "colab": {
          "base_uri": "https://localhost:8080/"
        }
      },
      "execution_count": null,
      "outputs": [
        {
          "output_type": "stream",
          "name": "stdout",
          "text": [
            "What value would you like to see?\n",
            "1. Pi\n",
            "2. Plank's constant\n",
            "3. E\n",
            "4. Square root of 2\n",
            "Please, choose a menu option: 9\n",
            "Invalid choice\n"
          ]
        }
      ]
    },
    {
      "cell_type": "markdown",
      "metadata": {
        "id": "R_42ktqd6m-O"
      },
      "source": [
        "---\n",
        "### Exercise 7 - positive or negative\n",
        "\n",
        "Write a function called **report_pos_or_neg()** which will:  \n",
        "\n",
        "*  ask a user to input a **number**  \n",
        "*  if the `number` is greater than 0, print `number` \"is a positive number\"\n",
        "*  otherwise if it is less than 0 print `number` \"is a negative number  \n",
        "*  otherwise print `number` \"is neither positive or negative\"\n",
        "\n",
        "Test Inputs:  \n",
        "0  \n",
        "50  \n",
        "-50\n",
        "\n",
        "Expected outputs:\n",
        "0 is neither positive or negative  \n",
        "50 is a positive number  \n",
        "-50 is a negative number  "
      ]
    },
    {
      "cell_type": "code",
      "metadata": {
        "id": "g2V-Ft_S8W6u",
        "outputId": "15e5b1b5-863c-450d-d2d1-29577a496d0e",
        "colab": {
          "base_uri": "https://localhost:8080/"
        }
      },
      "source": [
        "def report_pos_or_neg():\n",
        "  number=int(input(\"Please, enter a whole number: \"))\n",
        "  if number>0:\n",
        "    print(number, \"is a positive number\")\n",
        "  elif number<0:\n",
        "    print(number, \"is a negative number\")\n",
        "  else:\n",
        "    print(\"is neither positive or negative\")\n",
        "report_pos_or_neg()"
      ],
      "execution_count": null,
      "outputs": [
        {
          "output_type": "stream",
          "name": "stdout",
          "text": [
            "Please, enter a whole number: 0\n",
            "is neither positive or negative\n"
          ]
        }
      ]
    },
    {
      "cell_type": "code",
      "source": [
        "def report_pos_or_neg():\n",
        "  number=int(input(\"Please, enter a whole number: \"))\n",
        "  if number>0:\n",
        "    print(number, \"is a positive number\")\n",
        "  elif number<0:\n",
        "    print(number, \"is a negative number\")\n",
        "  else:\n",
        "    print(\"is neither positive or negative\")\n",
        "report_pos_or_neg()"
      ],
      "metadata": {
        "id": "uM6n3uqmsAhF",
        "outputId": "25ef9b79-d1c2-4a86-be93-292e2c1d62d8",
        "colab": {
          "base_uri": "https://localhost:8080/"
        }
      },
      "execution_count": null,
      "outputs": [
        {
          "output_type": "stream",
          "name": "stdout",
          "text": [
            "Please, enter a whole number: 50\n",
            "50 is a positive number\n"
          ]
        }
      ]
    },
    {
      "cell_type": "code",
      "source": [
        "def report_pos_or_neg():\n",
        "  number=int(input(\"Please, enter a whole number: \"))\n",
        "  if number>0:\n",
        "    print(number, \"is a positive number\")\n",
        "  elif number<0:\n",
        "    print(number, \"is a negative number\")\n",
        "  else:\n",
        "    print(\"is neither positive or negative\")\n",
        "report_pos_or_neg()"
      ],
      "metadata": {
        "id": "q9rOmgeWsETO",
        "outputId": "98b748af-1bb8-4b10-e879-a5ab528d9922",
        "colab": {
          "base_uri": "https://localhost:8080/"
        }
      },
      "execution_count": null,
      "outputs": [
        {
          "output_type": "stream",
          "name": "stdout",
          "text": [
            "Please, enter a whole number: -50\n",
            "-50 is a negative number\n"
          ]
        }
      ]
    },
    {
      "cell_type": "markdown",
      "metadata": {
        "id": "xypYjlmR8XgM"
      },
      "source": [
        "---\n",
        "### Exercise 8 - traffic light actions  \n",
        "\n",
        "Write a function called **act_on_light()** which will:\n",
        "\n",
        "*  ask the user to enter a traffic light **colour**  \n",
        "*  if the `colour` is \"red\" print the message \"Stop the car\"  \n",
        "*  otherwise if the `colour` is \"amber\" print the message \"Be ready to stop\"  \n",
        "*  otherwise if the `colour` is \"green\" print the message \"Continue forward\"  \n",
        "*  otherwise if the `colour` is \"red and amber\" print the message \"Get ready to go\"  \n",
        "*  otherwise print \"That is not a traffic light colour\"  \n",
        "\n",
        "Test inputs:  \n",
        "red  \n",
        "amber  \n",
        "red and amber  \n",
        "blue    \n",
        "\n",
        "Expected output:  \n",
        "Stop the car  \n",
        "Be ready to stop  \n",
        "Get ready to go  \n",
        "That is not a traffic light colour  "
      ]
    },
    {
      "cell_type": "code",
      "metadata": {
        "id": "8UDIQJpa-SUx",
        "outputId": "ee3280f5-a6a6-4288-c4ca-2a83347e1588",
        "colab": {
          "base_uri": "https://localhost:8080/"
        }
      },
      "source": [
        "def act_on_light():\n",
        "  colour=input(\"Please, enter a traffic colour: \")\n",
        "  if colour==\"red\":\n",
        "    print(\"Stop the car\")\n",
        "  elif colour==\"amber\":\n",
        "    print(\"Be ready to stop\")\n",
        "  elif colour==\"green\":\n",
        "    print(\"Continue forward\")\n",
        "  elif colour==\"red and amber\":\n",
        "    print(\"Get ready to go\")\n",
        "  else:\n",
        "    print(\"This is not a traffic light colour\")\n",
        "act_on_light()\n"
      ],
      "execution_count": null,
      "outputs": [
        {
          "output_type": "stream",
          "name": "stdout",
          "text": [
            "Please, enter a traffic colour: red\n",
            "Stop the car\n"
          ]
        }
      ]
    },
    {
      "cell_type": "code",
      "source": [
        "def act_on_light():\n",
        "  colour=input(\"Please, enter a traffic colour: \")\n",
        "  if colour==\"red\":\n",
        "    print(\"Stop the car\")\n",
        "  elif colour==\"amber\":\n",
        "    print(\"Be ready to stop\")\n",
        "  elif colour==\"green\":\n",
        "    print(\"Continue forward\")\n",
        "  elif colour==\"red and amber\":\n",
        "    print(\"Get ready to go\")\n",
        "  else:\n",
        "    print(\"This is not a traffic light colour\")\n",
        "act_on_light()"
      ],
      "metadata": {
        "id": "C-yRx4hOuQPt",
        "outputId": "12cb17e6-df3b-4030-86e7-b33a9c7e8bdf",
        "colab": {
          "base_uri": "https://localhost:8080/"
        }
      },
      "execution_count": null,
      "outputs": [
        {
          "output_type": "stream",
          "name": "stdout",
          "text": [
            "Please, enter a traffic colour: amber\n",
            "Be ready to stop\n"
          ]
        }
      ]
    },
    {
      "cell_type": "code",
      "source": [
        "def act_on_light():\n",
        "  colour=input(\"Please, enter a traffic colour: \")\n",
        "  if colour==\"red\":\n",
        "    print(\"Stop the car\")\n",
        "  elif colour==\"amber\":\n",
        "    print(\"Be ready to stop\")\n",
        "  elif colour==\"green\":\n",
        "    print(\"Continue forward\")\n",
        "  elif colour==\"red and amber\":\n",
        "    print(\"Get ready to go\")\n",
        "  else:\n",
        "    print(\"This is not a traffic light colour\")\n",
        "act_on_light()"
      ],
      "metadata": {
        "id": "Vhno7alPuTMG",
        "outputId": "dcb10205-92f5-4ec3-d9f6-440b000f60db",
        "colab": {
          "base_uri": "https://localhost:8080/"
        }
      },
      "execution_count": null,
      "outputs": [
        {
          "output_type": "stream",
          "name": "stdout",
          "text": [
            "Please, enter a traffic colour: red and amber\n",
            "Get ready to go\n"
          ]
        }
      ]
    },
    {
      "cell_type": "code",
      "source": [
        "def act_on_light():\n",
        "  colour=input(\"Please, enter a traffic colour: \")\n",
        "  if colour==\"red\":\n",
        "    print(\"Stop the car\")\n",
        "  elif colour==\"amber\":\n",
        "    print(\"Be ready to stop\")\n",
        "  elif colour==\"green\":\n",
        "    print(\"Continue forward\")\n",
        "  elif colour==\"red and amber\":\n",
        "    print(\"Get ready to go\")\n",
        "  else:\n",
        "    print(\"This is not a traffic light colour\")\n",
        "act_on_light()"
      ],
      "metadata": {
        "id": "w6Tr-Wf3uVkd",
        "outputId": "5fe6671a-4952-48ba-b30e-32e6468b306c",
        "colab": {
          "base_uri": "https://localhost:8080/"
        }
      },
      "execution_count": null,
      "outputs": [
        {
          "output_type": "stream",
          "name": "stdout",
          "text": [
            "Please, enter a traffic colour: blue\n",
            "This is not a traffic light colour\n"
          ]
        }
      ]
    },
    {
      "cell_type": "markdown",
      "metadata": {
        "id": "rB4N8OaU-Sls"
      },
      "source": [
        "---\n",
        "Exercise 9 - dealing with capitals\n",
        "\n",
        "Write a function called **check_capital()** which will:\n",
        "\n",
        "*  ask the user what is the **capital** city of Scotland  \n",
        "*  If they answer correctly (Edinburgh), tell them that they are correct, Edinburgh is the capital city. If they enter anything else, tell them \"No, Edinburgh is the capital city\"\n",
        "\n",
        "Test Inputs:  \n",
        "London  \n",
        "Edinburgh  \n",
        "edinburgh\n",
        "\n",
        "Expected output:\n",
        "No, Edinburgh is the capital city  \n",
        "You are correct, Edinburgh is the capital city  \n",
        "No, Edinburgh is the capital city  \n",
        "\n",
        "*(think about why it is likely that the output here is incorrect, and change the code to make it work)*"
      ]
    },
    {
      "cell_type": "code",
      "metadata": {
        "id": "MK3hL3Do_mOe",
        "outputId": "1e639185-4589-4132-dbdf-5eb36a680554",
        "colab": {
          "base_uri": "https://localhost:8080/"
        }
      },
      "source": [
        "def check_capital():\n",
        "  capital=input(\"What's the capital city of Scotland? \")\n",
        "  if capital==\"Edinburgh\":\n",
        "    print(\"You are correct, Edinburgh is the capital city.\")\n",
        "  else:\n",
        "    print(\"No, Edinburgh is the capital city.\")\n",
        "check_capital()\n"
      ],
      "execution_count": 1,
      "outputs": [
        {
          "output_type": "stream",
          "name": "stdout",
          "text": [
            "What's the capital city of Scotland? London\n",
            "No, Edinburgh is the capital city.\n"
          ]
        }
      ]
    },
    {
      "cell_type": "code",
      "source": [
        "def check_capital():\n",
        "  capital=input(\"What's the capital city of Scotland? \")\n",
        "  if capital==\"Edinburgh\":\n",
        "    print(\"You are correct, Edinburgh is the capital city.\")\n",
        "  else:\n",
        "    print(\"No, Edinburgh is the capital city.\")\n",
        "check_capital()"
      ],
      "metadata": {
        "id": "-V5vRztu6lSe",
        "outputId": "ed29555a-1b1d-4e8f-9520-361793071ef6",
        "colab": {
          "base_uri": "https://localhost:8080/"
        }
      },
      "execution_count": 2,
      "outputs": [
        {
          "output_type": "stream",
          "name": "stdout",
          "text": [
            "What's the capital city of Scotland? Edinburgh\n",
            "You are correct, Edinburgh is the capital city.\n"
          ]
        }
      ]
    },
    {
      "cell_type": "code",
      "source": [
        "def check_capital():\n",
        "  capital=input(\"What's the capital city of Scotland? \")\n",
        "  if capital==\"Edinburgh\":\n",
        "    print(\"You are correct, Edinburgh is the capital city.\")\n",
        "  else:\n",
        "    print(\"No, Edinburgh is the capital city.\")\n",
        "check_capital()"
      ],
      "metadata": {
        "id": "YalWUUw66pTu",
        "outputId": "ed0a68ae-b914-402a-c01b-4a4983bb6e9e",
        "colab": {
          "base_uri": "https://localhost:8080/"
        }
      },
      "execution_count": 3,
      "outputs": [
        {
          "output_type": "stream",
          "name": "stdout",
          "text": [
            "What's the capital city of Scotland? edinburgh\n",
            "No, Edinburgh is the capital city.\n"
          ]
        }
      ]
    },
    {
      "cell_type": "code",
      "source": [
        "def check_capital():\n",
        "  capital=input(\"What's the capital city of Scotland? \")\n",
        "  if capital==\"Edinburgh\" or capital==\"edinburgh\":\n",
        "    print(\"You are correct,\", capital, \"is the capital city.\")\n",
        "  else:\n",
        "    print(\"No, Edinburgh is the capital city.\")\n",
        "check_capital()"
      ],
      "metadata": {
        "id": "lkSGEoyW6r0d",
        "outputId": "c0dfe382-f7aa-4c43-9c12-f07c72e716fa",
        "colab": {
          "base_uri": "https://localhost:8080/"
        }
      },
      "execution_count": 4,
      "outputs": [
        {
          "output_type": "stream",
          "name": "stdout",
          "text": [
            "What's the capital city of Scotland? edinburgh\n",
            "You are correct, edinburgh is the capital city.\n"
          ]
        }
      ]
    },
    {
      "cell_type": "code",
      "source": [
        "def check_capital():\n",
        "  capital=input(\"What's the capital city of Scotland? \")\n",
        "  if capital==\"Edinburgh\" or capital==\"edinburgh\":\n",
        "    print(\"You are correct,\", capital, \"is the capital city.\")\n",
        "  else:\n",
        "    print(\"No, Edinburgh is the capital city.\")\n",
        "check_capital()"
      ],
      "metadata": {
        "id": "laO9Ecfv64Vl",
        "outputId": "d9ff75b1-6c96-48c6-8b25-3a52f410b9b7",
        "colab": {
          "base_uri": "https://localhost:8080/"
        }
      },
      "execution_count": 5,
      "outputs": [
        {
          "output_type": "stream",
          "name": "stdout",
          "text": [
            "What's the capital city of Scotland? Edinburgh\n",
            "You are correct, Edinburgh is the capital city.\n"
          ]
        }
      ]
    },
    {
      "cell_type": "markdown",
      "metadata": {
        "id": "pouR5V6b_mYV"
      },
      "source": [
        "---\n",
        "### Exercise 10 - calculator\n",
        "\n",
        "Write a function called **calculate()** which will:\n",
        "\n",
        "*  asks the user for 2 numbers (**num1** and **num2**) and an **operator** (+, -, /, *)\n",
        "\n",
        "Use *if* statements to allow the user to perform calculations on these 2 numbers and provide the answer in a print statement.\n",
        "\n",
        "Test Inputs:  \n",
        "num1 = 2, num2 = 3, operator = +  \n",
        "num1 = 2, num2 = 3, operator = -  \n",
        "num1 = 2, num2 = 3, operator = *  \n",
        "num1 = 2, num2 = 3, operator = /  \n",
        "\n",
        "Expected output:  \n",
        "Your answer is 5  \n",
        "Your answer is -1  \n",
        "Your answer is 6  \n",
        "Your answer is 0.6666666666  "
      ]
    },
    {
      "cell_type": "code",
      "metadata": {
        "id": "Q7I1hiAj5AhE",
        "outputId": "b203cb77-3c84-4589-e9dc-4b34e35329e1",
        "colab": {
          "base_uri": "https://localhost:8080/"
        }
      },
      "source": [
        "def calculate():\n",
        "  num1=int(input(\"Please, type a whole number here: \"))\n",
        "  num2=int(input(\"Please, type another whole number here: \"))\n",
        "  operator=(input(\"Please, type an operator of your choice between +, -, /, and *: \"))\n",
        "  x=num1\n",
        "  y=num2\n",
        "  if operator==\"+\":\n",
        "    print(\"Your answer is\", x+y)\n",
        "  elif operator==\"-\":\n",
        "    print(\"Your answer is\", x-y)\n",
        "  elif operator==\"*\":\n",
        "    print(\"Your answer is\", x*y)\n",
        "  elif operator==\"/\":\n",
        "    print(\"Your answer is\", x/y)\n",
        "  else:\n",
        "    print(\"Error. Refresh and try again.\")\n",
        " \n",
        "calculate()"
      ],
      "execution_count": 20,
      "outputs": [
        {
          "output_type": "stream",
          "name": "stdout",
          "text": [
            "Please, type a whole number here: 2\n",
            "Please, type another whole number here: 3\n",
            "Please, type an operator of your choice between +, -, /, and *: +\n",
            "Your answer is 5\n"
          ]
        }
      ]
    },
    {
      "cell_type": "code",
      "source": [
        "def calculate():\n",
        "  num1=int(input(\"Please, type a whole number here: \"))\n",
        "  num2=int(input(\"Please, type another whole number here: \"))\n",
        "  operator=(input(\"Please, type an operator of your choice between +, -, /, and *: \"))\n",
        "  x=num1\n",
        "  y=num2\n",
        "  if operator==\"+\":\n",
        "    print(\"Your answer is\", x+y)\n",
        "  elif operator==\"-\":\n",
        "    print(\"Your answer is\", x-y)\n",
        "  elif operator==\"*\":\n",
        "    print(\"Your answer is\", x*y)\n",
        "  elif operator==\"/\":\n",
        "    print(\"Your answer is\", x/y)\n",
        "  else:\n",
        "    print(\"Error. Refresh and try again.\")\n",
        " \n",
        "calculate()"
      ],
      "metadata": {
        "id": "sknX0p9JE7sP",
        "outputId": "1788e627-c1ea-4a68-b39d-b5c48e8eec7d",
        "colab": {
          "base_uri": "https://localhost:8080/"
        }
      },
      "execution_count": 21,
      "outputs": [
        {
          "output_type": "stream",
          "name": "stdout",
          "text": [
            "Please, type a whole number here: 2\n",
            "Please, type another whole number here: 3\n",
            "Please, type an operator of your choice between +, -, /, and *: -\n",
            "Your answer is -1\n"
          ]
        }
      ]
    },
    {
      "cell_type": "code",
      "source": [
        "def calculate():\n",
        "  num1=int(input(\"Please, type a whole number here: \"))\n",
        "  num2=int(input(\"Please, type another whole number here: \"))\n",
        "  operator=(input(\"Please, type an operator of your choice between +, -, /, and *: \"))\n",
        "  x=num1\n",
        "  y=num2\n",
        "  if operator==\"+\":\n",
        "    print(\"Your answer is\", x+y)\n",
        "  elif operator==\"-\":\n",
        "    print(\"Your answer is\", x-y)\n",
        "  elif operator==\"*\":\n",
        "    print(\"Your answer is\", x*y)\n",
        "  elif operator==\"/\":\n",
        "    print(\"Your answer is\", x/y)\n",
        "  else:\n",
        "    print(\"Error. Refresh and try again.\")\n",
        " \n",
        "calculate()"
      ],
      "metadata": {
        "id": "TfJQgW_6E9vf",
        "outputId": "f34f8617-8faf-4c76-9d11-8725623d69ad",
        "colab": {
          "base_uri": "https://localhost:8080/"
        }
      },
      "execution_count": 22,
      "outputs": [
        {
          "output_type": "stream",
          "name": "stdout",
          "text": [
            "Please, type a whole number here: 2\n",
            "Please, type another whole number here: 3\n",
            "Please, type an operator of your choice between +, -, /, and *: *\n",
            "Your answer is 6\n"
          ]
        }
      ]
    },
    {
      "cell_type": "code",
      "source": [
        "def calculate():\n",
        "  num1=int(input(\"Please, type a whole number here: \"))\n",
        "  num2=int(input(\"Please, type another whole number here: \"))\n",
        "  operator=(input(\"Please, type an operator of your choice between +, -, /, and *: \"))\n",
        "  x=num1\n",
        "  y=num2\n",
        "  if operator==\"+\":\n",
        "    print(\"Your answer is\", x+y)\n",
        "  elif operator==\"-\":\n",
        "    print(\"Your answer is\", x-y)\n",
        "  elif operator==\"*\":\n",
        "    print(\"Your answer is\", x*y)\n",
        "  elif operator==\"/\":\n",
        "    print(\"Your answer is\", x/y)\n",
        "  else:\n",
        "    print(\"Error. Refresh and try again.\")\n",
        " \n",
        "calculate()"
      ],
      "metadata": {
        "id": "2icsHJ7lE-ix",
        "outputId": "60ba3887-a985-4d44-fb8b-c5faf155674d",
        "colab": {
          "base_uri": "https://localhost:8080/"
        }
      },
      "execution_count": 23,
      "outputs": [
        {
          "output_type": "stream",
          "name": "stdout",
          "text": [
            "Please, type a whole number here: 2\n",
            "Please, type another whole number here: 3\n",
            "Please, type an operator of your choice between +, -, /, and *: /\n",
            "Your answer is 0.6666666666666666\n"
          ]
        }
      ]
    }
  ]
}