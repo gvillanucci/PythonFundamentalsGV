{
  "nbformat": 4,
  "nbformat_minor": 0,
  "metadata": {
    "colab": {
      "name": "SelectionChallenge.ipynb",
      "provenance": [],
      "collapsed_sections": [],
      "include_colab_link": true
    },
    "kernelspec": {
      "name": "python3",
      "display_name": "Python 3"
    }
  },
  "cells": [
    {
      "cell_type": "markdown",
      "metadata": {
        "id": "view-in-github",
        "colab_type": "text"
      },
      "source": [
        "<a href=\"https://colab.research.google.com/github/gvillanucci/PythonFundamentalsGV/blob/main/SelectionChallenge.ipynb\" target=\"_parent\"><img src=\"https://colab.research.google.com/assets/colab-badge.svg\" alt=\"Open In Colab\"/></a>"
      ]
    },
    {
      "cell_type": "markdown",
      "metadata": {
        "id": "-QxAKPD8DZfj"
      },
      "source": [
        "# Three selection challenges\n",
        "\n",
        "---\n"
      ]
    },
    {
      "cell_type": "markdown",
      "metadata": {
        "id": "2KYUALILDcM9"
      },
      "source": [
        "### Challenge 1 - password format  \n",
        "\n",
        "Write a function called **check_password_valid()** which will check the validity of a **password** input by a user.\n",
        "\n",
        "Rules for a valid password are:  \n",
        "\n",
        "*  At least 1 letter between [a-z] and 1 letter between [A-Z].\n",
        "*  At least 1 number between [0-9].\n",
        "*  At least 1 character from [$#@].\n",
        "*  Minimum length 6 characters.\n",
        "*  Maximum length 16 characters.  \n",
        "\n",
        "Let the user know if the `password` they have typed is valid and, if not, where was the first error.\n",
        "\n",
        "*Hint:  to test if a set of characters is present in a password String, you can use re.search('[character set]', `password`)*  \n",
        "\n",
        "Example:   \n",
        "*if re.search('[a-z]',`password`):*    \n",
        "this will be True if there is at least 1 character a-z in the password.\n",
        "\n",
        "**re** is a pre-written Python function for pattern searching in Strings.  It has been imported for you in the code cell below.  "
      ]
    },
    {
      "cell_type": "code",
      "metadata": {
        "id": "8wBK9IA4BO2e",
        "colab": {
          "base_uri": "https://localhost:8080/"
        },
        "outputId": "1988b6d7-df0a-46b4-e1ba-ae7958d124e2"
      },
      "source": [
        "import re\n",
        "\n",
        "# add your check_PasswordValid() function and call below here\n",
        "def check_PasswordValid():\n",
        "  password=input(\"Please enter your password: \")\n",
        " #if not, then:  \n",
        "  if not re.search('[a-z]', password):\n",
        "    print(\"Your password is missing a lowercase character.\")\n",
        "  elif not re.search('[A-Z]', password):\n",
        "    print(\"Your password is missing an uppercase character.\")\n",
        "  elif not re.search('[0-9]', password):\n",
        "    print(\"Your password is missing a number.\")\n",
        "  elif not re.search('[$, #, @]', password):\n",
        "    print(\"Your password is missing a special character among $, #, @.\")\n",
        "  elif not len(password) > 6 and len(password) < 16:\n",
        "    print(\"Your password must be between 6 and 16 characters\")\n",
        "  else:\n",
        "    print(\"Your password is valid.\")\n",
        "\n",
        "check_PasswordValid()\n"
      ],
      "execution_count": 9,
      "outputs": [
        {
          "output_type": "stream",
          "name": "stdout",
          "text": [
            "Please enter your password: cA$in0\n",
            "Your password must be between 6 and 16 characters\n"
          ]
        }
      ]
    },
    {
      "cell_type": "code",
      "source": [
        "import re\n",
        "\n",
        "# add your check_PasswordValid() function and call below here\n",
        "def check_PasswordValid():\n",
        "  password=input(\"Please enter your password: \")\n",
        " #if not, then:  \n",
        "  if not re.search('[a-z]', password):\n",
        "    print(\"Your password is missing a lowercase character.\")\n",
        "  elif not re.search('[A-Z]', password):\n",
        "    print(\"Your password is missing an uppercase character.\")\n",
        "  elif not re.search('[0-9]', password):\n",
        "    print(\"Your password is missing a number.\")\n",
        "  elif not re.search('[$, #, @]', password):\n",
        "    print(\"Your password is missing a special character among $, #, @.\")\n",
        "  elif not len(password) > 6 and len(password) < 16:\n",
        "    print(\"Your password must be between 6 and 16 characters\")\n",
        "  else:\n",
        "    print(\"Your password is valid.\")\n",
        "\n",
        "check_PasswordValid()"
      ],
      "metadata": {
        "colab": {
          "base_uri": "https://localhost:8080/"
        },
        "id": "Ax-1tOgxBQ4m",
        "outputId": "1249e13e-1dc2-4944-f072-8b7155e936c0"
      },
      "execution_count": 10,
      "outputs": [
        {
          "output_type": "stream",
          "name": "stdout",
          "text": [
            "Please enter your password: cA$in00\n",
            "Your password is valid.\n"
          ]
        }
      ]
    },
    {
      "cell_type": "code",
      "source": [
        "import re\n",
        "\n",
        "# add your check_PasswordValid() function and call below here\n",
        "def check_PasswordValid():\n",
        "  password=input(\"Please enter your password: \")\n",
        " #if not, then:  \n",
        "  if not re.search('[a-z]', password):\n",
        "    print(\"Your password is missing a lowercase character.\")\n",
        "  elif not re.search('[A-Z]', password):\n",
        "    print(\"Your password is missing an uppercase character.\")\n",
        "  elif not re.search('[0-9]', password):\n",
        "    print(\"Your password is missing a number.\")\n",
        "  elif not re.search('[$, #, @]', password):\n",
        "    print(\"Your password is missing a special character among $, #, @.\")\n",
        "  elif not len(password) > 6 and len(password) < 16:\n",
        "    print(\"Your password must be between 6 and 16 characters\")\n",
        "  else:\n",
        "    print(\"Your password is valid.\")\n",
        "#with this code, I only see the very first condition that is not met, not ALL the ones that are not met.\n",
        "check_PasswordValid()"
      ],
      "metadata": {
        "colab": {
          "base_uri": "https://localhost:8080/"
        },
        "id": "xsqzpX6ABWGC",
        "outputId": "e0b06e24-d007-46e5-ee2b-e2684c5f7d97"
      },
      "execution_count": 11,
      "outputs": [
        {
          "output_type": "stream",
          "name": "stdout",
          "text": [
            "Please enter your password: Casino\n",
            "Your password is missing a number.\n"
          ]
        }
      ]
    },
    {
      "cell_type": "markdown",
      "metadata": {
        "id": "f0R4GYTEFQS-"
      },
      "source": [
        "---\n",
        "### Challenge 2 - triangle shape  \n",
        "\n",
        "Write a function called **evaluate_triangle_shape()** which will check if a triangle is equilateral, isosceles or scalene, based on the three side lengths entered by a user (**x**, **y** and **z**.\n",
        "\n",
        "An equilateral triangle is a triangle in which all three sides are equal.\n",
        "A scalene triangle is a triangle that has three unequal sides.\n",
        "An isosceles triangle is a triangle with (at least) two equal sides.\n",
        "\n",
        "For example:  \n",
        "A triange with side lengths                                 \n",
        "x: 6                                                                    \n",
        "y: 8                                                                    \n",
        "z: 12                                                                   \n",
        "is a *Scalene triangle*\n",
        "\n",
        "A triangle with side lengths\n",
        "x:5  \n",
        "y:3   \n",
        "z:5  \n",
        "is an *Isosceles triangle*"
      ]
    },
    {
      "cell_type": "code",
      "metadata": {
        "id": "oBgl4ro1DVL0",
        "colab": {
          "base_uri": "https://localhost:8080/"
        },
        "outputId": "14c1d975-cc30-4bc1-c897-30a09debe6c1"
      },
      "source": [
        "def evaluate_triangle_shape():\n",
        "  x=int(input(\"Please input one triangle's side: \"))\n",
        "  y=int(input(\"Please input another triangle's side: \"))\n",
        "  z=int(input(\"Please input one more triangle's side: \"))\n",
        "  if x is y is z:\n",
        "    print(\"Based on the side lenghts you input, you have an Equilateral triangle.\")\n",
        "  elif x is not y is not z is not x:\n",
        "    print(\"Based on the side lenghts you input, you have a Scalene triangle.\")\n",
        "  elif x is y is not z or x is z is not y or z is y is not x:\n",
        "    print(\"Based on the side lenghts you input, you have an Isosceles triangle.\")\n",
        "evaluate_triangle_shape()"
      ],
      "execution_count": 27,
      "outputs": [
        {
          "output_type": "stream",
          "name": "stdout",
          "text": [
            "Please input one triangle's side: 6\n",
            "Please input another triangle's side: 8\n",
            "Please input one more triangle's side: 12\n",
            "Based on the side lenghts you input, you have a Scalene triangle.\n"
          ]
        }
      ]
    },
    {
      "cell_type": "code",
      "source": [
        "def evaluate_triangle_shape():\n",
        "  x=int(input(\"Please input one triangle's side: \"))\n",
        "  y=int(input(\"Please input another triangle's side: \"))\n",
        "  z=int(input(\"Please input one more triangle's side: \"))\n",
        "  if x is y is z:\n",
        "    print(\"Based on the side lenghts you input, you have an Equilateral triangle.\")\n",
        "  elif x is not y is not z is not x:\n",
        "    print(\"Based on the side lenghts you input, you have a Scalene triangle.\")\n",
        "  elif x is y is not z or x is z is not y or z is y is not x:\n",
        "    print(\"Based on the side lenghts you input, you have an Isosceles triangle.\")\n",
        "evaluate_triangle_shape()\n",
        "\n",
        "#is there a shorter/better way to word/code the isosceles condition?"
      ],
      "metadata": {
        "colab": {
          "base_uri": "https://localhost:8080/"
        },
        "id": "JthkzL3uS-xR",
        "outputId": "9d1abb2d-2028-4467-c75d-262d2c1e38be"
      },
      "execution_count": 24,
      "outputs": [
        {
          "output_type": "stream",
          "name": "stdout",
          "text": [
            "Please input one triangle's side: 5\n",
            "Please input another triangle's side: 3\n",
            "Please input one more triangle's side: 5\n",
            "Based on the side lenghts you input, you have an Isosceles triangle.\n"
          ]
        }
      ]
    },
    {
      "cell_type": "code",
      "source": [
        "def evaluate_triangle_shape():\n",
        "  x=int(input(\"Please input one triangle's side: \"))\n",
        "  y=int(input(\"Please input another triangle's side: \"))\n",
        "  z=int(input(\"Please input one more triangle's side: \"))\n",
        "  if x is y is z:\n",
        "    print(\"Based on the side lenghts you input, you have an Equilateral triangle.\")\n",
        "  elif x is not y is not z is not x:\n",
        "    print(\"Based on the side lenghts you input, you have a Scalene triangle.\")\n",
        "  elif x is y is not z or x is z is not y or z is y is not x:\n",
        "    print(\"Based on the side lenghts you input, you have an Isosceles triangle.\")\n",
        "evaluate_triangle_shape()"
      ],
      "metadata": {
        "colab": {
          "base_uri": "https://localhost:8080/"
        },
        "id": "tbuVb6TjTNmS",
        "outputId": "417c9518-1353-42a9-f464-d2e77762aba2"
      },
      "execution_count": 25,
      "outputs": [
        {
          "output_type": "stream",
          "name": "stdout",
          "text": [
            "Please input one triangle's side: 17\n",
            "Please input another triangle's side: 17\n",
            "Please input one more triangle's side: 17\n",
            "Based on the side lenghts you input, you have an Equilateral triangle.\n"
          ]
        }
      ]
    },
    {
      "cell_type": "code",
      "source": [
        "def evaluate_triangle_shape():\n",
        "  x=int(input(\"Please input one triangle's side: \"))\n",
        "  y=int(input(\"Please input another triangle's side: \"))\n",
        "  z=int(input(\"Please input one more triangle's side: \"))\n",
        "  if x + y > z and x + z > y and z + y > x: #as suggested, according to geometry\n",
        "    if x is y is z:\n",
        "      print(\"Based on the side lenghts you input, you have an Equilateral triangle.\")\n",
        "    elif x is not y is not z is not x:\n",
        "      print(\"Based on the side lenghts you input, you have a Scalene triangle.\")\n",
        "    elif x is y is not z or x is z is not y or z is y is not x:\n",
        "      print(\"Based on the side lenghts you input, you have an Isosceles triangle.\")\n",
        "  else:\n",
        "    print(\"Sorry, any side of a triangle cannot be longer than the sum of the other two. Try again!\")\n",
        "evaluate_triangle_shape()"
      ],
      "metadata": {
        "colab": {
          "base_uri": "https://localhost:8080/"
        },
        "id": "wxF19_krYOYS",
        "outputId": "86280357-a6b5-460e-c60c-406743aec1a3"
      },
      "execution_count": 41,
      "outputs": [
        {
          "output_type": "stream",
          "name": "stdout",
          "text": [
            "Please input one triangle's side: 1\n",
            "Please input another triangle's side: 1\n",
            "Please input one more triangle's side: 7\n",
            "Sorry, any side of a triangle cannot be longer than the sum of the other two. Try again!\n"
          ]
        }
      ]
    },
    {
      "cell_type": "markdown",
      "metadata": {
        "id": "hr2EotkqG33l"
      },
      "source": [
        "---\n",
        "### Challenge 3 - which season\n",
        "\n",
        "Write a function called **determine_season()** which will ask the user to enter two integers representing a **month** and **day** and prints the season for that month and day.\n",
        "\n",
        "Note:  for this exercise the season dates are:\n",
        "*  Winter December 21 to March 20    \n",
        "*  Spring March 21 to June 20  \n",
        "*  Summer June 21 to September 20  \n",
        "*  Autumn September 21 to December 20\n",
        "\n",
        "Test input:  \n",
        "Input the month (e.g. January, February etc.): 7                     \n",
        "Input the day: 31                                                       \n",
        "\n",
        "Expected output:  \n",
        "Season is summer \n",
        "\n",
        "*Note: this will require multiple and or or operators and you should use brackets to help Python know which operations to do first*  \n",
        "\n",
        "*For an extra challenge you can check that the day is valid for the month*"
      ]
    },
    {
      "cell_type": "code",
      "metadata": {
        "id": "cvbfz8nzG4IL",
        "colab": {
          "base_uri": "https://localhost:8080/"
        },
        "outputId": "d7e0472a-91ce-4876-e004-e5120eaca786"
      },
      "source": [
        "def determine_season():\n",
        "  month=int(input(\"Please type a month in the form of a whole number: \"))\n",
        "  if month < 1 or month > 12:\n",
        "    print(\"Input a valid month number.\")\n",
        "    month=int(input(\"Please type a month in the form of a whole number: \"))  #giving the user a second chance\n",
        "  day=int(input(\"Please type a day of the month: \"))\n",
        "  if month==2:\n",
        "    if day > 29:\n",
        "      print(\"This month does not have more than 29 days.\")\n",
        "  elif month==4 or month==6 or month==9 or month==11:\n",
        "    if day > 30:\n",
        "      print(\"This month only has 30 days.\")\n",
        "  else:\n",
        "    if day > 31:\n",
        "      print(\"This month only has 31 days.\")\n",
        "  \n",
        "  if month > 0 and month <= 2:\n",
        "    season=\"winter\"\n",
        "    print(\"Season is\", season)\n",
        "  elif month >= 4 and month <= 5:\n",
        "    season=\"spring\"\n",
        "    print(\"Season is\", season)\n",
        "  elif month >= 7 and month <= 8:\n",
        "    season=\"summer\"\n",
        "    print(\"Season is\", season)\n",
        "  elif month >= 10 and month <= 11:\n",
        "    season=\"autumn\"\n",
        "    print(\"Season is\", season)\n",
        "  else:\n",
        "    if ((month==12) and day >= 21 and day <= 31) or ((month==3) and day >= 1 and day <= 20):\n",
        "      season=\"winter\"\n",
        "      print(\"Season is\", season)\n",
        "    if ((month==3) and day >= 21 and day <= 31) or ((month==6) and day >= 1 and day <= 20):\n",
        "      season=\"spring\"\n",
        "      print(\"Season is\", season)\n",
        "    if ((month==6) and day >= 21 and day <= 30) or ((month==9) and day >= 1 and day <= 20):\n",
        "      season=\"summer\"\n",
        "      print(\"Season is\", season)\n",
        "    if ((month==9) and day >= 21 and day <= 30) or ((month==12) and day >= 1 and day <= 20):\n",
        "      season=\"autumn\"\n",
        "      print(\"Season is\", season)\n",
        "\n",
        "determine_season()   \n"
      ],
      "execution_count": 80,
      "outputs": [
        {
          "output_type": "stream",
          "name": "stdout",
          "text": [
            "Please type a month in the form of a whole number: 7\n",
            "Please type a day of the month: 31\n",
            "Season is summer\n"
          ]
        }
      ]
    }
  ]
}