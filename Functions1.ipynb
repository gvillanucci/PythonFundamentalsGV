{
  "nbformat": 4,
  "nbformat_minor": 0,
  "metadata": {
    "colab": {
      "name": "Functions1.ipynb",
      "provenance": [],
      "collapsed_sections": [],
      "include_colab_link": true
    },
    "kernelspec": {
      "name": "python3",
      "display_name": "Python 3"
    },
    "language_info": {
      "name": "python"
    }
  },
  "cells": [
    {
      "cell_type": "markdown",
      "metadata": {
        "id": "view-in-github",
        "colab_type": "text"
      },
      "source": [
        "<a href=\"https://colab.research.google.com/github/gvillanucci/PythonFundamentalsGV/blob/main/Functions1.ipynb\" target=\"_parent\"><img src=\"https://colab.research.google.com/assets/colab-badge.svg\" alt=\"Open In Colab\"/></a>"
      ]
    },
    {
      "cell_type": "markdown",
      "metadata": {
        "id": "0T-HIDf3FgQK"
      },
      "source": [
        "# Python functions\n",
        "\n",
        "---"
      ]
    },
    {
      "cell_type": "markdown",
      "metadata": {
        "id": "YM-csYt5FrvE"
      },
      "source": [
        "You have already been using functions that are provided with Python  \n",
        "*  print()\n",
        "*  input()\n",
        "*  randint() *(from random)*\n",
        "\n",
        "You can tell that they are functions because they have brackets after the name. Often there is some data in the brackets (ie something that you want the function to use on this occasion)\n",
        "\n",
        "*  print(\"Hello\")\n",
        "*  input(\"What is your name? \")\n",
        "*  randint(1,6) *(from the random function library)*\n",
        "\n",
        "The data is called a *parameter* or an *argument*.  There can be any number of parameters passed to a function.  Order is important but can sometimes be overridden.\n",
        "\n",
        "Some functions just do something (e.g. print(\"Hello\") will just print the word Hello)..  \n",
        "\n",
        "Other functions produce some new data which you will assign to a variable:  \n",
        "```\n",
        "name = input(\"What is your name? \")  \n",
        "dice_roll = randint(1,6)\n",
        "```\n",
        "\n",
        "Each time you use a function's name in your program, or in another function, you are calling it and it will run.\n",
        "\n"
      ]
    },
    {
      "cell_type": "markdown",
      "metadata": {
        "id": "Gzod-awDOrGj"
      },
      "source": [
        "---\n",
        "### Exercise 1 - len() of a string\n",
        "\n",
        "Write a function called **get_password()** which will get a password of 8 characters:  \n",
        "\n",
        "*  assign the value \"\" to a variable called **password**  \n",
        "*  start a while loop that will continue to loop while the length of `password` is not 8 characters    \n",
        "*  in the loop:  ask the user to enter a `password`\n",
        "*  after the loop, return the password to the calling program, which will print the valid password.  \n",
        "\n",
        "Test input:  \n",
        "abddgejkfjkl   \n",
        "999999999  \n",
        "ABCDEFH   \n",
        "\n",
        "Expected output:  \n",
        "ABCDEFGH  "
      ]
    },
    {
      "cell_type": "code",
      "metadata": {
        "id": "VC1h1g3cFb11",
        "outputId": "035d0ab4-ee30-4d30-d6d9-cb3fd3df5c62",
        "colab": {
          "base_uri": "https://localhost:8080/"
        }
      },
      "source": [
        "def get_password():\n",
        "  # add your code below here\n",
        "  password=\"\"\n",
        "  valid = False\n",
        "  while not(valid):  #same as valid==False\n",
        "    psw = input(\"Insert password: \")\n",
        "    #print(len(psw))\n",
        "    if len(psw) > 8:\n",
        "      valid = True\n",
        "  return psw\n",
        "\n",
        "print(get_password())"
      ],
      "execution_count": null,
      "outputs": [
        {
          "output_type": "stream",
          "name": "stdout",
          "text": [
            "Insert password: abddgejkfjkl\n",
            "abddgejkfjkl\n"
          ]
        }
      ]
    },
    {
      "cell_type": "code",
      "source": [
        "def get_password():\n",
        "  # add your code below here\n",
        "  password=\"\"\n",
        "  valid = False\n",
        "  while valid==False:  \n",
        "    psw = input(\"Insert password: \")\n",
        "    #print(len(psw))\n",
        "    if len(psw) > 8:\n",
        "      valid = True\n",
        "  return psw\n",
        "\n",
        "print(get_password())"
      ],
      "metadata": {
        "id": "ZI_dgGDiP1eH",
        "outputId": "cd7f6ca4-00a5-40a3-fcc1-0c04a0999f4a",
        "colab": {
          "base_uri": "https://localhost:8080/"
        }
      },
      "execution_count": null,
      "outputs": [
        {
          "output_type": "stream",
          "name": "stdout",
          "text": [
            "Insert password: 999999999\n",
            "999999999\n"
          ]
        }
      ]
    },
    {
      "cell_type": "code",
      "source": [
        "def get_password():\n",
        "  # add your code below here\n",
        "  password=\"\"\n",
        "  valid = False\n",
        "  while not(valid):  #same as valid==False\n",
        "    psw = input(\"Insert password: \")\n",
        "    #print(len(psw))\n",
        "    if len(psw) > 8:\n",
        "      valid = True\n",
        "  return psw\n",
        "\n",
        "print(get_password())"
      ],
      "metadata": {
        "id": "Jmc0elLSP7L_",
        "outputId": "1dbf1fc2-c57b-453e-b153-489b820e2968",
        "colab": {
          "base_uri": "https://localhost:8080/"
        }
      },
      "execution_count": null,
      "outputs": [
        {
          "output_type": "stream",
          "name": "stdout",
          "text": [
            "Insert password: ABCDEFH\n",
            "Insert password: ABCDEFGH\n",
            "Insert password: ABCDEFGHI\n",
            "ABCDEFGHI\n"
          ]
        }
      ]
    },
    {
      "cell_type": "markdown",
      "metadata": {
        "id": "pTC1HwRUQMSa"
      },
      "source": [
        "---\n",
        "### Exercise 2 - capitalise username\n",
        "\n",
        "Write a function called **get_username()** which will:  \n",
        "\n",
        "*  ask the user for a **username**  \n",
        "*  convert the `username` to upper case and assign the new value to a variable called **username_upper**   \n",
        "* if `username_upper` is \"ADMINUSER1\" then return \"Valid user\", otherwise return \"Invalid username\".  The calling program will print the message.  \n",
        "\n",
        "Test input:  \n",
        "admin\n",
        "\n",
        "Expected output:  \n",
        "Invalid username\n",
        "\n",
        "Test input:  \n",
        "AdminUser1\n",
        "\n",
        "Expected output:  \n",
        "Valid user  \n"
      ]
    },
    {
      "cell_type": "code",
      "metadata": {
        "id": "0vusDz8YQMdB",
        "outputId": "0542cf7a-3141-4c08-ecbf-7611d2f17916",
        "colab": {
          "base_uri": "https://localhost:8080/"
        }
      },
      "source": [
        "def get_username():\n",
        "  # add your code below here\n",
        "  username=input(\"What's your username? \")\n",
        "  username_upper=username.upper()\n",
        "  if username_upper==\"ADMINUSER1\":\n",
        "    return \"Valid user\"\n",
        "  else:\n",
        "    return \"Invalid username\"\n",
        "\n",
        "\n",
        "\n",
        "print(get_username())"
      ],
      "execution_count": null,
      "outputs": [
        {
          "output_type": "stream",
          "name": "stdout",
          "text": [
            "What's your username? admin\n",
            "Invalid username\n"
          ]
        }
      ]
    },
    {
      "cell_type": "code",
      "source": [
        "def get_username():\n",
        "  # add your code below here\n",
        "  username=input(\"What's your username? \")\n",
        "  username_upper=username.upper()\n",
        "  if username_upper==\"ADMINUSER1\":\n",
        "    return \"Valid user\"\n",
        "  else:\n",
        "    return \"Invalid username\"\n",
        "\n",
        "\n",
        "\n",
        "print(get_username())"
      ],
      "metadata": {
        "id": "MB7jxR7VUpSa",
        "outputId": "caa12572-0a94-41b4-ab16-9d830aebbac1",
        "colab": {
          "base_uri": "https://localhost:8080/"
        }
      },
      "execution_count": null,
      "outputs": [
        {
          "output_type": "stream",
          "name": "stdout",
          "text": [
            "What's your username? AdminUser1\n",
            "Valid user\n"
          ]
        }
      ]
    },
    {
      "cell_type": "markdown",
      "metadata": {
        "id": "SUcNgc6bRfha"
      },
      "source": [
        "---\n",
        "### Exercise 3 - select correct message\n",
        "\n",
        "Write a function called **get_credentials()** which will:  \n",
        "\n",
        "*  ask the user for a **username**  \n",
        "*  ask the user for a **password**  \n",
        "*  return one of the following messages:\n",
        "*  *  \"Credentials accepted\"  \n",
        "*  *  \"Invalid user\"  \n",
        "*  *  \"Password too short\"  \n",
        "\n",
        "Note:  `username` must be \"AdminUser1\" and the password must be at least 8 characters.  The calling program will print the message.  \n",
        "\n",
        "Test input:  \n",
        "AdminUser1\n",
        "abc999def\n",
        "\n",
        "Expected output:  \n",
        "Credentials accepted\n",
        "\n",
        "Test input:  \n",
        "AdminUser1\n",
        "abc\n",
        "\n",
        "Expected output:  \n",
        "Password too short  \n",
        "\n",
        "Test input:  \n",
        "User1\n",
        "abc999def\n",
        "\n",
        "Expected output:  \n",
        "Invalid user  "
      ]
    },
    {
      "cell_type": "code",
      "metadata": {
        "id": "GUjr6u9sRfrh",
        "outputId": "32d7d48a-986c-472f-9e9b-5d5f3614d751",
        "colab": {
          "base_uri": "https://localhost:8080/"
        }
      },
      "source": [
        "def get_credentials():\n",
        "  username=input(\"What's your username? \")\n",
        "  password=input(\"What's your password? \")\n",
        "  valid = False\n",
        "  while not(valid):  #same as valid==False\n",
        "    if username!=\"AdminUser1\":\n",
        "      return \"Invalid user\"\n",
        "    elif len(password) < 8:\n",
        "      return \"Password too short\"\n",
        "    elif len(password) >= 8 and username==\"AdminUser1\":\n",
        "      print(\"Credentials accepted\")\n",
        "      valid = True\n",
        "    \n",
        "  \n",
        "\n",
        "\n",
        "\n",
        "get_credentials()  "
      ],
      "execution_count": 1,
      "outputs": [
        {
          "output_type": "stream",
          "name": "stdout",
          "text": [
            "What's your username? AdminUser1\n",
            "What's your password? abc999def\n",
            "Credentials accepted\n"
          ]
        }
      ]
    },
    {
      "cell_type": "code",
      "source": [
        "def get_credentials():\n",
        "  username=input(\"What's your username? \")\n",
        "  password=input(\"What's your password? \")\n",
        "  valid = False\n",
        "  while not(valid):  #same as valid==False\n",
        "    if username!=\"AdminUser1\":\n",
        "      return \"Invalid user\"\n",
        "    elif len(password) < 8:\n",
        "      return \"Password too short\"\n",
        "    elif len(password) >= 8 and username==\"AdminUser1\":\n",
        "      print(\"Credentials accepted\")\n",
        "      valid = True\n",
        "    \n",
        "  \n",
        "\n",
        "\n",
        "\n",
        "get_credentials()  "
      ],
      "metadata": {
        "id": "1tk07sDO02iC",
        "outputId": "7f95f2e4-b511-4d02-950e-761c7c2b6a79",
        "colab": {
          "base_uri": "https://localhost:8080/",
          "height": 70
        }
      },
      "execution_count": 2,
      "outputs": [
        {
          "name": "stdout",
          "output_type": "stream",
          "text": [
            "What's your username? AdminUser1\n",
            "What's your password? abc\n"
          ]
        },
        {
          "output_type": "execute_result",
          "data": {
            "application/vnd.google.colaboratory.intrinsic+json": {
              "type": "string"
            },
            "text/plain": [
              "'Password too short'"
            ]
          },
          "metadata": {},
          "execution_count": 2
        }
      ]
    },
    {
      "cell_type": "code",
      "source": [
        "def get_credentials():\n",
        "  username=input(\"What's your username? \")\n",
        "  password=input(\"What's your password? \")\n",
        "  valid = False\n",
        "  while not(valid):  #same as valid==False\n",
        "    if username!=\"AdminUser1\":\n",
        "      return \"Invalid user\"\n",
        "    elif len(password) < 8:\n",
        "      return \"Password too short\"\n",
        "    elif len(password) >= 8 and username==\"AdminUser1\":\n",
        "      print(\"Credentials accepted\")\n",
        "      valid = True\n",
        "  \n",
        "\n",
        "get_credentials() "
      ],
      "metadata": {
        "id": "AiVDw_hh1Ela",
        "outputId": "8f718a71-8169-44ad-814a-93afe8359de9",
        "colab": {
          "base_uri": "https://localhost:8080/",
          "height": 70
        }
      },
      "execution_count": 3,
      "outputs": [
        {
          "name": "stdout",
          "output_type": "stream",
          "text": [
            "What's your username? User1\n",
            "What's your password? abc999def\n"
          ]
        },
        {
          "output_type": "execute_result",
          "data": {
            "application/vnd.google.colaboratory.intrinsic+json": {
              "type": "string"
            },
            "text/plain": [
              "'Invalid user'"
            ]
          },
          "metadata": {},
          "execution_count": 3
        }
      ]
    },
    {
      "cell_type": "markdown",
      "metadata": {
        "id": "oVIw8G_FTWoS"
      },
      "source": [
        "---\n",
        "### Exercise 3 - round to given dp\n",
        "\n",
        "Write a function called **get_rounded_float()** which will:  \n",
        "\n",
        "*  ask the user for a decimal **number**  \n",
        "*  ask the user for a number of **places** to round to  \n",
        "*  return the number rounded to the requested number of decimal places\n",
        "\n",
        "Note:  The calling program will print the number.  \n",
        "\n",
        "Test input:  \n",
        "3.14159  \n",
        "2\n",
        "\n",
        "Expected output:  \n",
        "3.14  \n",
        "\n",
        "Test input:  \n",
        "98.6666666666666  \n",
        "4  \n",
        "\n",
        "Expected output:  \n",
        "98.6667  "
      ]
    },
    {
      "cell_type": "code",
      "metadata": {
        "id": "AHKffkJbTWxS",
        "outputId": "27751d43-f0eb-48ba-d35c-10bea2420d2d",
        "colab": {
          "base_uri": "https://localhost:8080/"
        }
      },
      "source": [
        "def get_rounded_float():\n",
        "  num1=float(input(\"Please type in a decimal number: \"))\n",
        "  decimals=int(input(\"How many decimal places do you need? \"))\n",
        "  num1round=round(num1,decimals)\n",
        "  return num1round\n",
        "print(get_rounded_float())\n"
      ],
      "execution_count": null,
      "outputs": [
        {
          "output_type": "stream",
          "name": "stdout",
          "text": [
            "Please type in a decimal number: 3.14159\n",
            "How many decimal places do you need? 2\n",
            "3.14\n"
          ]
        }
      ]
    },
    {
      "cell_type": "code",
      "source": [
        "def get_rounded_float():\n",
        "  num1=float(input(\"Please type in a decimal number: \"))\n",
        "  decimals=int(input(\"How many decimal places do you need? \"))\n",
        "  num1round=round(num1,decimals)\n",
        "  print(num1round)\n",
        "get_rounded_float()"
      ],
      "metadata": {
        "id": "2LZveKlTZc0J",
        "outputId": "805c8a02-47da-4109-cdf3-731e14dd6ef9",
        "colab": {
          "base_uri": "https://localhost:8080/"
        }
      },
      "execution_count": null,
      "outputs": [
        {
          "output_type": "stream",
          "name": "stdout",
          "text": [
            "Please type in a decimal number: 98.6666666666666\n",
            "How many decimal places do you need? 4\n",
            "98.6667\n"
          ]
        }
      ]
    },
    {
      "cell_type": "markdown",
      "metadata": {
        "id": "x4Nl2CQ3T9Aj"
      },
      "source": [
        "---\n",
        "### Exercise 4 - round or not\n",
        "\n",
        "Write a function called **get_rounded_float()** which will:  \n",
        "\n",
        "*  ask the user for a decimal **number**  \n",
        "*  ask the user if they would like to round the number (Y or N) assign this value to **round_number**\n",
        "*  if `round_number` is \"Y\", then ask the user for a number of **places** to round to and return the number rounded to the required number of decimal places  \n",
        "*  otherwise, return the number as it was typed in\n",
        "\n",
        "Note:  The calling program will print the number.  \n",
        "\n",
        "Test input:  \n",
        "3.14159  \n",
        "Y  \n",
        "3\n",
        "\n",
        "Expected output:  \n",
        "3.142\n",
        "\n",
        "Test input:  \n",
        "98.6666666666666  \n",
        "N\n",
        "\n",
        "Expected output:  \n",
        "98.6666666666666  "
      ]
    },
    {
      "cell_type": "code",
      "metadata": {
        "id": "kzLHRud6T9Lo",
        "outputId": "86c7f1ee-f4fb-4756-b96c-b80e7a9a0333",
        "colab": {
          "base_uri": "https://localhost:8080/"
        }
      },
      "source": [
        "def get_rounded_float():\n",
        "  number=float(input(\"Please type in a decimal number: \"))\n",
        "  ask_round=(input(\"Would you like to round your number? Type Y or N: \"))\n",
        "  if ask_round == \"Y\":\n",
        "    places=int(input(\"How many decimal places do you need? \"))\n",
        "    num_round=round(number,places)\n",
        "    return num_round\n",
        "  elif ask_round == \"N\":\n",
        "    return number\n",
        "  \n",
        "print(get_rounded_float())"
      ],
      "execution_count": 4,
      "outputs": [
        {
          "output_type": "stream",
          "name": "stdout",
          "text": [
            "Please type in a decimal number: 3.14159\n",
            "Would you like to round your number? Type Y or N: Y\n",
            "How many decimal places do you need? 3\n",
            "3.142\n"
          ]
        }
      ]
    },
    {
      "cell_type": "code",
      "source": [
        "def get_rounded_float():\n",
        "  number=float(input(\"Please type in a decimal number: \"))\n",
        "  ask_round=(input(\"Would you like to round your number? Type Y or N: \"))\n",
        "  if ask_round == \"Y\":\n",
        "    places=int(input(\"How many decimal places do you need? \"))\n",
        "    num_round=round(number,places)\n",
        "    return num_round\n",
        "  elif ask_round == \"N\":\n",
        "    return number\n",
        "  \n",
        "print(get_rounded_float())"
      ],
      "metadata": {
        "id": "oHHHu70Q42l6",
        "outputId": "2e6c44ca-8626-4a6a-8309-397f642558bd",
        "colab": {
          "base_uri": "https://localhost:8080/"
        }
      },
      "execution_count": 5,
      "outputs": [
        {
          "output_type": "stream",
          "name": "stdout",
          "text": [
            "Please type in a decimal number: 98.6666666666666\n",
            "Would you like to round your number? Type Y or N: N\n",
            "98.6666666666666\n"
          ]
        }
      ]
    },
    {
      "cell_type": "markdown",
      "metadata": {
        "id": "o2Hl9tOFVA17"
      },
      "source": [
        "---\n",
        "### Exercise 5 - random number and places\n",
        "\n",
        "Write a function called **generate_rounded_float()** which will:  \n",
        "\n",
        "*  import the functions uniform and randint from random (from random import uniform, randint)    \n",
        "Note *: the uniform function will generate a random float between two given boundary numbers ( e.g. number = uniform(10,20)).  It is better practice to name the functions you will be using from a library rather than importing the whole library, which could be large*  \n",
        "\n",
        "*  generate a random decimal **number** between 1 and 10   \n",
        "*  print the `number`   \n",
        "*  generate a random integer **places** between 1 and 4\n",
        "*  print `places`\n",
        "*  return the `number` rounded to the given number of `places`\n",
        "\n",
        "Note:  The calling program will print the number.  \n",
        "\n",
        "Example input:  \n",
        "3.14159  \n",
        "Y  \n",
        "3\n",
        "\n",
        "Expected output:  \n",
        "3.142\n",
        "\n",
        "Test input:  \n",
        "98.6666666666666  \n",
        "N\n",
        "\n",
        "Expected output:  \n",
        "98.6666666666666 "
      ]
    },
    {
      "cell_type": "code",
      "metadata": {
        "id": "c5ufi-U-VBB5",
        "outputId": "6c2dbe07-6aa0-4775-f069-5826e405ccd0",
        "colab": {
          "base_uri": "https://localhost:8080/"
        }
      },
      "source": [
        "def generate_rounded_float():\n",
        "  import random\n",
        "  from random import uniform, randint\n",
        "  number=uniform(1,10)\n",
        "  print(number)\n",
        "  places=int(random.randint(1,4))\n",
        "  print(places)\n",
        "  return round(number,places)\n",
        "\n",
        "\n",
        "\n",
        "print(generate_rounded_float())  "
      ],
      "execution_count": 9,
      "outputs": [
        {
          "output_type": "stream",
          "name": "stdout",
          "text": [
            "3.513933984313679\n",
            "3\n",
            "3.514\n"
          ]
        }
      ]
    }
  ]
}